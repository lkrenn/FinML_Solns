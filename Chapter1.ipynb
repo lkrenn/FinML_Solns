{
 "cells": [
  {
   "cell_type": "code",
   "execution_count": 2,
   "metadata": {},
   "outputs": [],
   "source": [
    "import numpy as np\n",
    "import pandas as pd\n",
    "import matplotlib.pyplot as plt\n",
    "import h5py\n",
    "import time\n",
    "import pickle\n",
    "from datetime import datetime"
   ]
  },
  {
   "cell_type": "markdown",
   "metadata": {},
   "source": [
    "# Analysis of E-Mini S&P 500 Futures Tick Data\n",
    "\n",
    "In this notebook, we will be exploring the properties of data representing the tick-by-tick transactions involving E-Mini S&P 500 Futures. In my experience, tick data is the most granular data you can have on any given asset, and is naturally frequently used in low-latency trading. Let us see if we can find some interesting results!"
   ]
  },
  {
   "cell_type": "markdown",
   "metadata": {},
   "source": [
    "# Importing the Data\n",
    "\n",
    "We will begin this project by taking a look at the data. I am unfamiliar with this type of file extension, so we will get to learn something new!"
   ]
  },
  {
   "cell_type": "code",
   "execution_count": 86,
   "metadata": {},
   "outputs": [],
   "source": [
    "# Data inspection\n",
    "data = h5py.File('ES.h5', 'r')"
   ]
  },
  {
   "cell_type": "code",
   "execution_count": 87,
   "metadata": {},
   "outputs": [
    {
     "data": {
      "text/plain": [
       "<KeysViewHDF5 ['tick']>"
      ]
     },
     "execution_count": 87,
     "metadata": {},
     "output_type": "execute_result"
    }
   ],
   "source": [
    "# Behaves like some sort of dictionary\n",
    "data.keys()"
   ]
  },
  {
   "cell_type": "code",
   "execution_count": 88,
   "metadata": {},
   "outputs": [
    {
     "data": {
      "text/plain": [
       "<KeysViewHDF5 ['trades', 'trades_filter0vol']>"
      ]
     },
     "execution_count": 88,
     "metadata": {},
     "output_type": "execute_result"
    }
   ],
   "source": [
    "tick = data.get('tick')\n",
    "tick.keys()"
   ]
  },
  {
   "cell_type": "code",
   "execution_count": 89,
   "metadata": {},
   "outputs": [
    {
     "data": {
      "text/plain": [
       "903298560"
      ]
     },
     "execution_count": 89,
     "metadata": {},
     "output_type": "execute_result"
    }
   ],
   "source": [
    "# Let's see how many transactions there are...\n",
    "trades = tick.get('trades')\n",
    "trades.size"
   ]
  },
  {
   "cell_type": "markdown",
   "metadata": {},
   "source": [
    "This dataset is massive! I have never had the opportunity to work with such a large dataset. It will be likely that I will have to work with a subset of this data. There is no way that I could manipulate such a large dataframe with the slow CPU clock/low RAM on my laptop (maybe if I have time leftover I will rent an AWS instance and give this a try). "
   ]
  },
  {
   "cell_type": "code",
   "execution_count": 90,
   "metadata": {},
   "outputs": [
    {
     "data": {
      "text/plain": [
       "dtype([('Instrument', 'S5'), ('Price', '<f4'), ('Time', 'S17'), ('Volume', '<u4')])"
      ]
     },
     "execution_count": 90,
     "metadata": {},
     "output_type": "execute_result"
    }
   ],
   "source": [
    "trades.dtype"
   ]
  },
  {
   "cell_type": "code",
   "execution_count": 91,
   "metadata": {},
   "outputs": [
    {
     "data": {
      "text/plain": [
       "(b'ESZ15', 1992.25, b'20151013155959134', 2)"
      ]
     },
     "execution_count": 91,
     "metadata": {},
     "output_type": "execute_result"
    }
   ],
   "source": [
    "trades[-1]"
   ]
  },
  {
   "cell_type": "markdown",
   "metadata": {},
   "source": [
    "These dates are formatted interestingly. I assume it is:\n",
    "\n",
    "Year Month Day Hour Minute Second Millisecond Microsecond(?). This is certainly the most granular data I've ever worked with before!\n",
    "\n",
    "I will now explore the other part of the dataset:"
   ]
  },
  {
   "cell_type": "code",
   "execution_count": 92,
   "metadata": {},
   "outputs": [
    {
     "data": {
      "text/plain": [
       "856183065"
      ]
     },
     "execution_count": 92,
     "metadata": {},
     "output_type": "execute_result"
    }
   ],
   "source": [
    "other = tick.get('trades_filter0vol')\n",
    "other.size"
   ]
  },
  {
   "cell_type": "code",
   "execution_count": 93,
   "metadata": {},
   "outputs": [
    {
     "data": {
      "text/plain": [
       "47115495"
      ]
     },
     "execution_count": 93,
     "metadata": {},
     "output_type": "execute_result"
    }
   ],
   "source": [
    "# What is this? \n",
    "trades.size - other.size"
   ]
  },
  {
   "cell_type": "code",
   "execution_count": 94,
   "metadata": {},
   "outputs": [
    {
     "data": {
      "text/plain": [
       "dtype([('Instrument', 'S5'), ('Price', '<f4'), ('Time', 'S17'), ('Volume', '<u4')])"
      ]
     },
     "execution_count": 94,
     "metadata": {},
     "output_type": "execute_result"
    }
   ],
   "source": [
    "other.dtype"
   ]
  },
  {
   "cell_type": "markdown",
   "metadata": {},
   "source": [
    "This other dataset appears to be formatted the same way..."
   ]
  },
  {
   "cell_type": "code",
   "execution_count": 95,
   "metadata": {},
   "outputs": [
    {
     "data": {
      "text/plain": [
       "(b'ESZ15', 1992.25, b'20151013155959134', 2)"
      ]
     },
     "execution_count": 95,
     "metadata": {},
     "output_type": "execute_result"
    }
   ],
   "source": [
    "other[-1]"
   ]
  },
  {
   "cell_type": "markdown",
   "metadata": {},
   "source": [
    "Start with a small sample to compare:"
   ]
  },
  {
   "cell_type": "code",
   "execution_count": 96,
   "metadata": {},
   "outputs": [],
   "source": [
    "sample = trades[:10000000]\n",
    "samp_filt = other[:1000000]"
   ]
  },
  {
   "cell_type": "code",
   "execution_count": 97,
   "metadata": {},
   "outputs": [
    {
     "data": {
      "text/plain": [
       "array([(b'ESU97', 933.75, b'19970910001318000', 0),\n",
       "       (b'ESU97', 933.75, b'19970910010809000', 0),\n",
       "       (b'ESU97', 934.  , b'19970910011146000', 0),\n",
       "       (b'ESU97', 933.75, b'19970910011819000', 0),\n",
       "       (b'ESU97', 933.75, b'19970910012349000', 0),\n",
       "       (b'ESU97', 933.75, b'19970910012352000', 0),\n",
       "       (b'ESU97', 934.  , b'19970910020654000', 0),\n",
       "       (b'ESU97', 934.  , b'19970910020738000', 0),\n",
       "       (b'ESU97', 934.  , b'19970910023013000', 0),\n",
       "       (b'ESU97', 934.25, b'19970910025316000', 0)],\n",
       "      dtype=[('Instrument', 'S5'), ('Price', '<f4'), ('Time', 'S17'), ('Volume', '<u4')])"
      ]
     },
     "execution_count": 97,
     "metadata": {},
     "output_type": "execute_result"
    }
   ],
   "source": [
    "# Is it called 0vol because those are orders that don't get filled? \n",
    "sample[:10]"
   ]
  },
  {
   "cell_type": "code",
   "execution_count": 98,
   "metadata": {},
   "outputs": [
    {
     "data": {
      "text/plain": [
       "array([(b'ESU03', 971.75, b'20030630230001000', 1),\n",
       "       (b'ESU03', 972.  , b'20030630230005000', 1),\n",
       "       (b'ESU03', 972.  , b'20030630230009000', 2),\n",
       "       (b'ESU03', 971.75, b'20030630230141000', 3),\n",
       "       (b'ESU03', 972.  , b'20030630230155000', 1),\n",
       "       (b'ESU03', 972.  , b'20030630230157000', 1),\n",
       "       (b'ESU03', 972.  , b'20030630230158000', 1),\n",
       "       (b'ESU03', 972.  , b'20030630230417000', 3),\n",
       "       (b'ESU03', 971.75, b'20030630230508000', 5),\n",
       "       (b'ESU03', 971.75, b'20030630230509000', 5)],\n",
       "      dtype=[('Instrument', 'S5'), ('Price', '<f4'), ('Time', 'S17'), ('Volume', '<u4')])"
      ]
     },
     "execution_count": 98,
     "metadata": {},
     "output_type": "execute_result"
    }
   ],
   "source": [
    "samp_filt[:10]"
   ]
  },
  {
   "cell_type": "code",
   "execution_count": 99,
   "metadata": {},
   "outputs": [],
   "source": [
    "# Yes! These are the trades we want to work with surely... "
   ]
  },
  {
   "cell_type": "code",
   "execution_count": 100,
   "metadata": {},
   "outputs": [
    {
     "data": {
      "text/plain": [
       "0"
      ]
     },
     "execution_count": 100,
     "metadata": {},
     "output_type": "execute_result"
    }
   ],
   "source": [
    "sum(sample['Volume'])"
   ]
  },
  {
   "cell_type": "code",
   "execution_count": 101,
   "metadata": {},
   "outputs": [],
   "source": [
    "del sample"
   ]
  },
  {
   "cell_type": "markdown",
   "metadata": {},
   "source": [
    "We will want to naturally work with the ticks that have volume attached to them. Otherwise, they would not be considered a transaction and the values would just be orders. As we know from the car problem, you can set a price to whatever you want, but your product will not necessarily be purchased for that price!\n",
    "\n",
    "We will work with a subsample here because my computing power is far too weak to make this feasible..."
   ]
  },
  {
   "cell_type": "code",
   "execution_count": 15,
   "metadata": {},
   "outputs": [],
   "source": [
    "# Create a subset to work on\n",
    "samp_filt = tick.get('trades_filter0vol')"
   ]
  },
  {
   "cell_type": "markdown",
   "metadata": {},
   "source": [
    "Now, we will try to roll these prices so that they represent one continuous price series:"
   ]
  },
  {
   "cell_type": "code",
   "execution_count": 20,
   "metadata": {},
   "outputs": [
    {
     "data": {
      "text/plain": [
       "array([(b'ESU03', 971.75, b'20030630230001000', 1),\n",
       "       (b'ESU03', 972.  , b'20030630230005000', 1),\n",
       "       (b'ESU03', 972.  , b'20030630230009000', 2),\n",
       "       (b'ESU03', 971.75, b'20030630230141000', 3),\n",
       "       (b'ESU03', 972.  , b'20030630230155000', 1),\n",
       "       (b'ESU03', 972.  , b'20030630230157000', 1),\n",
       "       (b'ESU03', 972.  , b'20030630230158000', 1),\n",
       "       (b'ESU03', 972.  , b'20030630230417000', 3),\n",
       "       (b'ESU03', 971.75, b'20030630230508000', 5),\n",
       "       (b'ESU03', 971.75, b'20030630230509000', 5)],\n",
       "      dtype=[('Instrument', 'S5'), ('Price', '<f4'), ('Time', 'S17'), ('Volume', '<u4')])"
      ]
     },
     "execution_count": 20,
     "metadata": {},
     "output_type": "execute_result"
    }
   ],
   "source": [
    "samp_filt[:10]"
   ]
  },
  {
   "cell_type": "code",
   "execution_count": 21,
   "metadata": {},
   "outputs": [],
   "source": [
    "# Artifact from when I was trying to work with the full set\n",
    "#prices = [samp_filt[x][1] for x in range(len(samp_filt))]"
   ]
  },
  {
   "cell_type": "code",
   "execution_count": 22,
   "metadata": {},
   "outputs": [],
   "source": [
    "#file = open('prices_list.pkl', \"wb\")\n",
    "#pickle.dump(prices, file)"
   ]
  },
  {
   "cell_type": "markdown",
   "metadata": {},
   "source": [
    "We want to find out where each contract's data starts and ends:"
   ]
  },
  {
   "cell_type": "code",
   "execution_count": 23,
   "metadata": {},
   "outputs": [],
   "source": [
    "# Find unique futures codes, the index at which they first appear\n",
    "vals, idx_start= np.unique(samp_filt['Instrument'], return_index=True)"
   ]
  },
  {
   "cell_type": "code",
   "execution_count": 24,
   "metadata": {},
   "outputs": [
    {
     "data": {
      "text/plain": [
       "array([  8352408,  32703627,  58697500,  73799504, 102330809, 167689596,\n",
       "       235317889, 351382954, 481868637, 589024573, 691183251, 796787055,\n",
       "        14213073,  38264918,  62336729,  77454123, 115079868, 185194992,\n",
       "       257059138, 372085183, 506468725, 608752339, 716181267, 827140901,\n",
       "               0,  21565554,  45507019,  66342715,  81885706, 125688647,\n",
       "       201521272, 290686719, 396383493, 534990221, 639529953, 741196477,\n",
       "       837922627,   2984986,  27008947,  51537912,  70417557,  92516505,\n",
       "       137817608, 212889822, 323303819, 435729824, 563414413, 666298742,\n",
       "       763650498, 851050729])"
      ]
     },
     "execution_count": 24,
     "metadata": {},
     "output_type": "execute_result"
    }
   ],
   "source": [
    "idx_start"
   ]
  },
  {
   "cell_type": "code",
   "execution_count": 26,
   "metadata": {},
   "outputs": [],
   "source": [
    "with open('idx_start.pkl', 'wb') as f:\n",
    "    pickle.dump(idx_start, f)"
   ]
  },
  {
   "cell_type": "code",
   "execution_count": 27,
   "metadata": {},
   "outputs": [],
   "source": [
    "with open('vals.pkl', 'wb') as f:\n",
    "    pickle.dump(vals, f)"
   ]
  },
  {
   "cell_type": "code",
   "execution_count": 28,
   "metadata": {},
   "outputs": [
    {
     "data": {
      "text/plain": [
       "array([b'ESH04', b'ESH05', b'ESH06', b'ESH07', b'ESH08', b'ESH09',\n",
       "       b'ESH10', b'ESH11', b'ESH12', b'ESH13', b'ESH14', b'ESH15',\n",
       "       b'ESM04', b'ESM05', b'ESM06', b'ESM07', b'ESM08', b'ESM09',\n",
       "       b'ESM10', b'ESM11', b'ESM12', b'ESM13', b'ESM14', b'ESM15',\n",
       "       b'ESU03', b'ESU04', b'ESU05', b'ESU06', b'ESU07', b'ESU08',\n",
       "       b'ESU09', b'ESU10', b'ESU11', b'ESU12', b'ESU13', b'ESU14',\n",
       "       b'ESU15', b'ESZ03', b'ESZ04', b'ESZ05', b'ESZ06', b'ESZ07',\n",
       "       b'ESZ08', b'ESZ09', b'ESZ10', b'ESZ11', b'ESZ12', b'ESZ13',\n",
       "       b'ESZ14', b'ESZ15'], dtype='|S5')"
      ]
     },
     "execution_count": 28,
     "metadata": {},
     "output_type": "execute_result"
    }
   ],
   "source": [
    "# List the contract names\n",
    "vals"
   ]
  },
  {
   "cell_type": "code",
   "execution_count": 29,
   "metadata": {},
   "outputs": [],
   "source": [
    "idxdict = {vals[i]:idx_start[i] for i in range(len(vals))}"
   ]
  },
  {
   "cell_type": "code",
   "execution_count": 30,
   "metadata": {},
   "outputs": [
    {
     "data": {
      "text/plain": [
       "0"
      ]
     },
     "execution_count": 30,
     "metadata": {},
     "output_type": "execute_result"
    }
   ],
   "source": [
    "# Sanity check\n",
    "idxdict[b'ESU03']"
   ]
  },
  {
   "cell_type": "code",
   "execution_count": 32,
   "metadata": {},
   "outputs": [
    {
     "data": {
      "text/plain": [
       "[b'ESU03', b'ESZ03', b'ESH04', b'ESM04', b'ESU04']"
      ]
     },
     "execution_count": 32,
     "metadata": {},
     "output_type": "execute_result"
    }
   ],
   "source": [
    "ordered_ticks = sorted(idxdict, key=lambda k: idxdict[k])\n",
    "ordered_ticks[:5]"
   ]
  },
  {
   "cell_type": "code",
   "execution_count": null,
   "metadata": {},
   "outputs": [],
   "source": [
    "# Looks good to me!"
   ]
  },
  {
   "cell_type": "code",
   "execution_count": 35,
   "metadata": {},
   "outputs": [
    {
     "name": "stdout",
     "output_type": "stream",
     "text": [
      "b'20030910154500000'\n",
      "b'20030910151459000'\n"
     ]
    }
   ],
   "source": [
    "# First time one of the ESZ03 contracts is traded\n",
    "print(samp_filt[idxdict[ordered_ticks[1]]][2])\n",
    "\n",
    "# Last time one of the ESU03 contracts is traded\n",
    "print(samp_filt[idxdict[ordered_ticks[1]]-1][2])"
   ]
  },
  {
   "cell_type": "code",
   "execution_count": 36,
   "metadata": {},
   "outputs": [
    {
     "data": {
      "text/plain": [
       "True"
      ]
     },
     "execution_count": 36,
     "metadata": {},
     "output_type": "execute_result"
    }
   ],
   "source": [
    "samp_filt[idxdict[ordered_ticks[1]]][2] > samp_filt[idxdict[ordered_ticks[1]]-1][2]"
   ]
  },
  {
   "cell_type": "code",
   "execution_count": 37,
   "metadata": {},
   "outputs": [
    {
     "data": {
      "text/plain": [
       "(b'ESH04', 1059.5, b'20031210153001000', 1)"
      ]
     },
     "execution_count": 37,
     "metadata": {},
     "output_type": "execute_result"
    }
   ],
   "source": [
    "samp_filt[idxdict[b'ESH04']]"
   ]
  },
  {
   "cell_type": "code",
   "execution_count": 38,
   "metadata": {},
   "outputs": [
    {
     "data": {
      "text/plain": [
       "(b'ESZ03', 1061., b'20031210151459000', 5)"
      ]
     },
     "execution_count": 38,
     "metadata": {},
     "output_type": "execute_result"
    }
   ],
   "source": [
    "samp_filt[idxdict[b'ESH04']-1]"
   ]
  },
  {
   "cell_type": "markdown",
   "metadata": {},
   "source": [
    "It seems like the continuous price series has already been completed? "
   ]
  },
  {
   "cell_type": "code",
   "execution_count": 45,
   "metadata": {},
   "outputs": [
    {
     "data": {
      "text/plain": [
       "True"
      ]
     },
     "execution_count": 45,
     "metadata": {},
     "output_type": "execute_result"
    }
   ],
   "source": [
    "# Check\n",
    "is_ordered = []\n",
    "for i in range(1,len(idxdict.keys())):\n",
    "    key = list(idxdict.keys())[i]\n",
    "    first_time = samp_filt[idxdict[ordered_ticks[1]]][2]\n",
    "    last_time = samp_filt[idxdict[ordered_ticks[1]]-1][2]\n",
    "    \n",
    "    is_ordered.append(first_time>last_time)\n",
    "\n",
    "all(is_ordered)"
   ]
  },
  {
   "cell_type": "markdown",
   "metadata": {},
   "source": [
    "In that case, I think we can move on(?) First, we will delete some unnecessary data to free up some RAM"
   ]
  },
  {
   "cell_type": "markdown",
   "metadata": {},
   "source": [
    "# Forming Bars\n",
    "\n",
    "## Tick Bars\n",
    "\n",
    "Tick bars are bars which sample over a certain amount of trades. Each transaction creates a respective tick, and by sampling all these ticks, we can gain some insight on the price movement, volume movement, etc. over the past $n$ trades:"
   ]
  },
  {
   "cell_type": "code",
   "execution_count": 103,
   "metadata": {},
   "outputs": [
    {
     "data": {
      "text/plain": [
       "20"
      ]
     },
     "execution_count": 103,
     "metadata": {},
     "output_type": "execute_result"
    }
   ],
   "source": [
    "# Say ticks of len 50000\n",
    "len(samp_filt) // 50000"
   ]
  },
  {
   "cell_type": "code",
   "execution_count": 104,
   "metadata": {},
   "outputs": [
    {
     "data": {
      "text/plain": [
       "856150000"
      ]
     },
     "execution_count": 104,
     "metadata": {},
     "output_type": "execute_result"
    }
   ],
   "source": [
    "50000*17123"
   ]
  },
  {
   "cell_type": "code",
   "execution_count": 105,
   "metadata": {},
   "outputs": [
    {
     "data": {
      "text/plain": [
       "-855150000"
      ]
     },
     "execution_count": 105,
     "metadata": {},
     "output_type": "execute_result"
    }
   ],
   "source": [
    "len(samp_filt) - 856150000"
   ]
  },
  {
   "cell_type": "code",
   "execution_count": 106,
   "metadata": {
    "scrolled": true
   },
   "outputs": [],
   "source": [
    "ticks_nminus1 = samp_filt[:50000*17123]"
   ]
  },
  {
   "cell_type": "code",
   "execution_count": 62,
   "metadata": {},
   "outputs": [
    {
     "data": {
      "text/plain": [
       "array([(b'ESU03', 971.75, b'20030630230001000', 1),\n",
       "       (b'ESU03', 972.  , b'20030630230005000', 1),\n",
       "       (b'ESU03', 972.  , b'20030630230009000', 2), ...,\n",
       "       (b'ESU03', 970.  , b'20030701130455000', 1),\n",
       "       (b'ESU03', 969.75, b'20030701130456000', 1),\n",
       "       (b'ESU03', 969.75, b'20030701130456000', 1)],\n",
       "      dtype=[('Instrument', 'S5'), ('Price', '<f4'), ('Time', 'S17'), ('Volume', '<u4')])"
      ]
     },
     "execution_count": 62,
     "metadata": {},
     "output_type": "execute_result"
    }
   ],
   "source": [
    "split_nminus1 = np.array_split(ticks_nminus1, 17123, axis=0)\n",
    "split_nminus1[0]"
   ]
  },
  {
   "cell_type": "code",
   "execution_count": 65,
   "metadata": {},
   "outputs": [
    {
     "data": {
      "text/plain": [
       "33065"
      ]
     },
     "execution_count": 65,
     "metadata": {},
     "output_type": "execute_result"
    }
   ],
   "source": [
    "split_n = split_nminus1 + [samp_filt[50000*17123:]]\n",
    "len(split_n[-1])"
   ]
  },
  {
   "cell_type": "code",
   "execution_count": 31,
   "metadata": {},
   "outputs": [
    {
     "name": "stdout",
     "output_type": "stream",
     "text": [
      "18.496058225631714\n"
     ]
    }
   ],
   "source": [
    "print(end-start)"
   ]
  },
  {
   "cell_type": "code",
   "execution_count": 32,
   "metadata": {},
   "outputs": [
    {
     "data": {
      "text/plain": [
       "5000"
      ]
     },
     "execution_count": 32,
     "metadata": {},
     "output_type": "execute_result"
    }
   ],
   "source": [
    "len(tick_dict[0])"
   ]
  },
  {
   "cell_type": "code",
   "execution_count": 36,
   "metadata": {},
   "outputs": [],
   "source": [
    "# # Slow, old version!\n",
    "# # Initialize the DataFrame\n",
    "# tick_bars = pd.DataFrame(columns=['Last_Time', 'VWAP', 'Open', 'Close', 'High', 'Low', 'Volume', 'nTicks'])\n",
    "\n",
    "# # Start timer\n",
    "# start = time.time()\n",
    "# for i in range(1000):#len(split_n)):\n",
    "    \n",
    "#     # Pull each sample \n",
    "#     bar = split_n[i]\n",
    "    \n",
    "#     # Calculate the necessary values\n",
    "#     last_time  = bar[\"Time\"][-1]\n",
    "#     vwap       = sum(bar['Price']*bar['Volume'])/sum(bar['Volume'])\n",
    "#     openpx     = bar['Price'][0]\n",
    "#     closepx    = bar['Price'][-1]\n",
    "#     high       = max(bar['Price'])\n",
    "#     low        = min(bar['Price'])\n",
    "#     volume     = sum(bar['Volume'])\n",
    "#     nticks     = len(bar)\n",
    "    \n",
    "#     # Append to DataFrame\n",
    "#     tick_bars.loc[i] = [last_time, vwap, openpx, closepx, high, low, volume, nticks]\n",
    "# end = time.time()"
   ]
  },
  {
   "cell_type": "code",
   "execution_count": 85,
   "metadata": {
    "scrolled": true
   },
   "outputs": [],
   "source": [
    "# Form each column of our new dataframes\n",
    "last_times  = [split_n[i][-1]['Time'] for i in range(len(split_n))]\n",
    "openpx      = [split_n[i][0]['Price'] for i in range(len(split_n))]\n",
    "closepx     = [split_n[i][-1]['Price'] for i in range(len(split_n))]\n",
    "high        = [np.max(split_n[i]['Price']) for i in range(len(split_n))]\n",
    "low         = [np.min(split_n[i]['Price']) for i in range(len(split_n))]\n",
    "volume      = [np.sum(split_n[i]['Volume']) for i in range(len(split_n))]\n",
    "ticks       = [len(x) for x in split_n]"
   ]
  },
  {
   "cell_type": "code",
   "execution_count": 88,
   "metadata": {},
   "outputs": [
    {
     "data": {
      "text/plain": [
       "array([[b'20030701130456000', b'971.75', b'975.0', b'960.25', b'969.75',\n",
       "        b'535697', b'50000'],\n",
       "       [b'20030702101221000', b'969.75', b'988.5', b'968.5', b'985.0',\n",
       "        b'544351', b'50000'],\n",
       "       [b'20030703090805000', b'985.0', b'994.0', b'983.5', b'990.5',\n",
       "        b'469973', b'50000'],\n",
       "       [b'20030707093010000', b'990.75', b'1004.25', b'974.5', b'1003.0',\n",
       "        b'520279', b'50000'],\n",
       "       [b'20030708090527000', b'1003.0', b'1005.0', b'997.5', b'998.0',\n",
       "        b'513521', b'50000']], dtype='|S32')"
      ]
     },
     "execution_count": 88,
     "metadata": {},
     "output_type": "execute_result"
    }
   ],
   "source": [
    "tick_bars_array = np.column_stack([last_times, openpx, high, low, closepx, volume, ticks])\n",
    "tick_bars_array[:5]"
   ]
  },
  {
   "cell_type": "code",
   "execution_count": 89,
   "metadata": {},
   "outputs": [],
   "source": [
    "with open('tick_bars_array.pkl', 'wb') as f:\n",
    "    pickle.dump(tick_bars_array, f)"
   ]
  },
  {
   "cell_type": "code",
   "execution_count": 16,
   "metadata": {},
   "outputs": [],
   "source": [
    "tick_bars_array = pickle.load(open('tick_bars_array.pkl', 'rb'))"
   ]
  },
  {
   "cell_type": "code",
   "execution_count": 17,
   "metadata": {},
   "outputs": [],
   "source": [
    "tick_bars_df = pd.DataFrame(tick_bars_array)\n",
    "tick_bars_df.columns = ['Last Trade', 'Open', 'High', 'Low', 'Close', 'Volume', 'nTicks']"
   ]
  },
  {
   "cell_type": "code",
   "execution_count": 39,
   "metadata": {},
   "outputs": [
    {
     "data": {
      "text/html": [
       "<div>\n",
       "<style scoped>\n",
       "    .dataframe tbody tr th:only-of-type {\n",
       "        vertical-align: middle;\n",
       "    }\n",
       "\n",
       "    .dataframe tbody tr th {\n",
       "        vertical-align: top;\n",
       "    }\n",
       "\n",
       "    .dataframe thead th {\n",
       "        text-align: right;\n",
       "    }\n",
       "</style>\n",
       "<table border=\"1\" class=\"dataframe\">\n",
       "  <thead>\n",
       "    <tr style=\"text-align: right;\">\n",
       "      <th></th>\n",
       "      <th>Last Trade</th>\n",
       "      <th>Open</th>\n",
       "      <th>High</th>\n",
       "      <th>Low</th>\n",
       "      <th>Close</th>\n",
       "      <th>Volume</th>\n",
       "      <th>nTicks</th>\n",
       "    </tr>\n",
       "  </thead>\n",
       "  <tbody>\n",
       "    <tr>\n",
       "      <th>0</th>\n",
       "      <td>b'20030701130456000'</td>\n",
       "      <td>b'971.75'</td>\n",
       "      <td>b'975.0'</td>\n",
       "      <td>b'960.25'</td>\n",
       "      <td>b'969.75'</td>\n",
       "      <td>b'535697'</td>\n",
       "      <td>b'50000'</td>\n",
       "    </tr>\n",
       "    <tr>\n",
       "      <th>1</th>\n",
       "      <td>b'20030702101221000'</td>\n",
       "      <td>b'969.75'</td>\n",
       "      <td>b'988.5'</td>\n",
       "      <td>b'968.5'</td>\n",
       "      <td>b'985.0'</td>\n",
       "      <td>b'544351'</td>\n",
       "      <td>b'50000'</td>\n",
       "    </tr>\n",
       "    <tr>\n",
       "      <th>2</th>\n",
       "      <td>b'20030703090805000'</td>\n",
       "      <td>b'985.0'</td>\n",
       "      <td>b'994.0'</td>\n",
       "      <td>b'983.5'</td>\n",
       "      <td>b'990.5'</td>\n",
       "      <td>b'469973'</td>\n",
       "      <td>b'50000'</td>\n",
       "    </tr>\n",
       "    <tr>\n",
       "      <th>3</th>\n",
       "      <td>b'20030707093010000'</td>\n",
       "      <td>b'990.75'</td>\n",
       "      <td>b'1004.25'</td>\n",
       "      <td>b'974.5'</td>\n",
       "      <td>b'1003.0'</td>\n",
       "      <td>b'520279'</td>\n",
       "      <td>b'50000'</td>\n",
       "    </tr>\n",
       "    <tr>\n",
       "      <th>4</th>\n",
       "      <td>b'20030708090527000'</td>\n",
       "      <td>b'1003.0'</td>\n",
       "      <td>b'1005.0'</td>\n",
       "      <td>b'997.5'</td>\n",
       "      <td>b'998.0'</td>\n",
       "      <td>b'513521'</td>\n",
       "      <td>b'50000'</td>\n",
       "    </tr>\n",
       "  </tbody>\n",
       "</table>\n",
       "</div>"
      ],
      "text/plain": [
       "             Last Trade       Open        High        Low      Close  \\\n",
       "0  b'20030701130456000'  b'971.75'    b'975.0'  b'960.25'  b'969.75'   \n",
       "1  b'20030702101221000'  b'969.75'    b'988.5'   b'968.5'   b'985.0'   \n",
       "2  b'20030703090805000'   b'985.0'    b'994.0'   b'983.5'   b'990.5'   \n",
       "3  b'20030707093010000'  b'990.75'  b'1004.25'   b'974.5'  b'1003.0'   \n",
       "4  b'20030708090527000'  b'1003.0'   b'1005.0'   b'997.5'   b'998.0'   \n",
       "\n",
       "      Volume    nTicks  \n",
       "0  b'535697'  b'50000'  \n",
       "1  b'544351'  b'50000'  \n",
       "2  b'469973'  b'50000'  \n",
       "3  b'520279'  b'50000'  \n",
       "4  b'513521'  b'50000'  "
      ]
     },
     "execution_count": 39,
     "metadata": {},
     "output_type": "execute_result"
    }
   ],
   "source": [
    "# Sanity Check\n",
    "tick_bars_df.head()"
   ]
  },
  {
   "cell_type": "markdown",
   "metadata": {},
   "source": [
    "As we can see in the above DataFrame, each bar represents a sample of data spanning 5000 ticks!"
   ]
  },
  {
   "cell_type": "code",
   "execution_count": 98,
   "metadata": {},
   "outputs": [],
   "source": [
    "pickle.dump(tick_bars_df, open('tick_bars_df.pkl','wb'))"
   ]
  },
  {
   "cell_type": "code",
   "execution_count": 103,
   "metadata": {},
   "outputs": [
    {
     "data": {
      "text/plain": [
       "17124"
      ]
     },
     "execution_count": 103,
     "metadata": {},
     "output_type": "execute_result"
    }
   ],
   "source": [
    "len(tick_bars_df)"
   ]
  },
  {
   "cell_type": "markdown",
   "metadata": {},
   "source": [
    "## Volume Bars\n",
    "\n",
    "Next, we will construct volume bars. Volume bars are similar to tick bars, except we are sampling over a fixed number of contracts traded. This differs from tick bars as each transaction may be for more than one contract, which means that our fixed number (say 5000 contracts traded) may be reached before 5000 transactions occur!"
   ]
  },
  {
   "cell_type": "code",
   "execution_count": 17,
   "metadata": {},
   "outputs": [],
   "source": [
    "# Create a series with all the volumes\n",
    "volumes = samp_filt['Volume']"
   ]
  },
  {
   "cell_type": "code",
   "execution_count": 19,
   "metadata": {},
   "outputs": [
    {
     "data": {
      "text/plain": [
       "array([         1,          2,          4, ..., 4806457087, 4806457091,\n",
       "       4806457093], dtype=uint64)"
      ]
     },
     "execution_count": 19,
     "metadata": {},
     "output_type": "execute_result"
    }
   ],
   "source": [
    "# Take the cumulative sum of all volumes\n",
    "volumes_cumsum = np.cumsum(volumes)\n",
    "volumes_cumsum"
   ]
  },
  {
   "cell_type": "code",
   "execution_count": 20,
   "metadata": {},
   "outputs": [
    {
     "data": {
      "text/plain": [
       "16021.0"
      ]
     },
     "execution_count": 20,
     "metadata": {},
     "output_type": "execute_result"
    }
   ],
   "source": [
    "# Find an appropriate volume to sample over\n",
    "volumes_cumsum[-1] // 300000"
   ]
  },
  {
   "cell_type": "code",
   "execution_count": 21,
   "metadata": {},
   "outputs": [],
   "source": [
    "# Let's say every 300000 units of volume\n",
    "nvolume = 300000\n",
    "\n",
    "# If the volume is >= 30000*i, then we start a new bar\n",
    "# Don't want to split trades, I'm not sure that's allowed,\n",
    "# so we will be 30000+/- the leftovers per transaction. \n",
    "\n",
    "nvols = int(volumes_cumsum[-1] // 300000)"
   ]
  },
  {
   "cell_type": "markdown",
   "metadata": {},
   "source": [
    "It is important to pause here and elaborate on the above comments. Intuitively, it does not make sense to split transactions to ensure even volumes per bar. We cannot guarantee that the next trade that comes in will only have Volume=1 if we do some sort of prediction model."
   ]
  },
  {
   "cell_type": "code",
   "execution_count": 22,
   "metadata": {},
   "outputs": [],
   "source": [
    "# Cutoff points for the bars\n",
    "thresholds = list(range(0,300000*nvols+1, 300000)) + [volumes_cumsum[-1]]"
   ]
  },
  {
   "cell_type": "code",
   "execution_count": 24,
   "metadata": {},
   "outputs": [
    {
     "data": {
      "text/plain": [
       "4806457093"
      ]
     },
     "execution_count": 24,
     "metadata": {},
     "output_type": "execute_result"
    }
   ],
   "source": [
    "# Total number of contracts traded\n",
    "volumes_cumsum[-1]"
   ]
  },
  {
   "cell_type": "code",
   "execution_count": 25,
   "metadata": {},
   "outputs": [
    {
     "data": {
      "text/plain": [
       "True"
      ]
     },
     "execution_count": 25,
     "metadata": {},
     "output_type": "execute_result"
    }
   ],
   "source": [
    "# Sanity Check\n",
    "thresholds[-1] + 300000 > volumes_cumsum[-1]"
   ]
  },
  {
   "cell_type": "code",
   "execution_count": 26,
   "metadata": {},
   "outputs": [
    {
     "data": {
      "text/plain": [
       "[0, 300000, 600000, 900000, 1200000]"
      ]
     },
     "execution_count": 26,
     "metadata": {},
     "output_type": "execute_result"
    }
   ],
   "source": [
    "# Sanity Check x2\n",
    "thresholds[:5]"
   ]
  },
  {
   "cell_type": "code",
   "execution_count": 127,
   "metadata": {},
   "outputs": [],
   "source": [
    "# # Old\n",
    "# start = time.time()\n",
    "# vol_idx = []\n",
    "# counter = 0\n",
    "# for i in range(1000000):#len(volumes_cumsum)):\n",
    "#     if volumes_cumsum[i] > thresholds[counter]:\n",
    "#         vol_idx.append(i-1)\n",
    "#         counter+=1\n",
    "# end = time.time()"
   ]
  },
  {
   "cell_type": "code",
   "execution_count": 27,
   "metadata": {},
   "outputs": [],
   "source": [
    "import bisect\n",
    "\n",
    "# Find indices to split on based on cumulative\n",
    "# Sum of volume\n",
    "vol_idxes = []\n",
    "for threshold in thresholds:\n",
    "    vol_idxes.append(bisect.bisect_right(volumes_cumsum, threshold))"
   ]
  },
  {
   "cell_type": "code",
   "execution_count": 28,
   "metadata": {},
   "outputs": [
    {
     "data": {
      "text/plain": [
       "[0, 25999, 56271, 82195, 112005, 144637, 174715, 203446, 231839, 263124]"
      ]
     },
     "execution_count": 28,
     "metadata": {},
     "output_type": "execute_result"
    }
   ],
   "source": [
    "vol_idxes[:10]"
   ]
  },
  {
   "cell_type": "code",
   "execution_count": 29,
   "metadata": {},
   "outputs": [],
   "source": [
    "# Split the data on those indices\n",
    "vol_splits = np.split(samp_filt, vol_idxes)"
   ]
  },
  {
   "cell_type": "code",
   "execution_count": 30,
   "metadata": {},
   "outputs": [],
   "source": [
    "pickle.dump(vol_splits, open('vol_splits.pkl','wb'))"
   ]
  },
  {
   "cell_type": "code",
   "execution_count": 31,
   "metadata": {},
   "outputs": [
    {
     "data": {
      "text/plain": [
       "array([(b'ESU03', 971.75, b'20030630230001000', 1),\n",
       "       (b'ESU03', 972.  , b'20030630230005000', 1),\n",
       "       (b'ESU03', 972.  , b'20030630230009000', 2), ...,\n",
       "       (b'ESU03', 962.25, b'20030701094821000', 1),\n",
       "       (b'ESU03', 962.25, b'20030701094821000', 1),\n",
       "       (b'ESU03', 962.25, b'20030701094821000', 1)],\n",
       "      dtype=[('Instrument', 'S5'), ('Price', '<f4'), ('Time', 'S17'), ('Volume', '<u4')])"
      ]
     },
     "execution_count": 31,
     "metadata": {},
     "output_type": "execute_result"
    }
   ],
   "source": [
    "vol_splits[1]"
   ]
  },
  {
   "cell_type": "code",
   "execution_count": 42,
   "metadata": {
    "scrolled": true
   },
   "outputs": [],
   "source": [
    "last_times  = [vol_splits[i][-1]['Time'] for i in range(1,len(vol_splits)-2)]\n",
    "openpx      = [vol_splits[i][0]['Price'] for i in range(1,len(vol_splits)-2)]\n",
    "closepx     = [vol_splits[i][-1]['Price'] for i in range(1,len(vol_splits)-2)]\n",
    "high        = [np.max(vol_splits[i]['Price']) for i in range(1,len(vol_splits)-2)]\n",
    "low         = [np.min(vol_splits[i]['Price']) for i in range(1,len(vol_splits)-2)]\n",
    "volume      = [np.sum(vol_splits[i]['Volume']) for i in range(1,len(vol_splits)-2)]\n",
    "ticks       = [len(x) for x in vol_splits[1:len(vol_splits)-2]]"
   ]
  },
  {
   "cell_type": "code",
   "execution_count": 58,
   "metadata": {},
   "outputs": [],
   "source": [
    "volume_bars_array = np.column_stack([last_times, openpx, high, low, closepx, volume, ticks])"
   ]
  },
  {
   "cell_type": "code",
   "execution_count": 59,
   "metadata": {},
   "outputs": [],
   "source": [
    "with open('volume_bars_array.pkl', 'wb') as f:\n",
    "    pickle.dump(volume_bars_array, f)"
   ]
  },
  {
   "cell_type": "code",
   "execution_count": 18,
   "metadata": {},
   "outputs": [],
   "source": [
    "volume_bars_array = pickle.load(open('volume_bars_array.pkl', 'rb'))"
   ]
  },
  {
   "cell_type": "code",
   "execution_count": 19,
   "metadata": {},
   "outputs": [],
   "source": [
    "volume_bars_df = pd.DataFrame(volume_bars_array)\n",
    "volume_bars_df.columns = ['Last Trade', 'Open', 'High', 'Low', 'Close', 'Volume', 'nTicks']"
   ]
  },
  {
   "cell_type": "code",
   "execution_count": 42,
   "metadata": {},
   "outputs": [
    {
     "data": {
      "text/html": [
       "<div>\n",
       "<style scoped>\n",
       "    .dataframe tbody tr th:only-of-type {\n",
       "        vertical-align: middle;\n",
       "    }\n",
       "\n",
       "    .dataframe tbody tr th {\n",
       "        vertical-align: top;\n",
       "    }\n",
       "\n",
       "    .dataframe thead th {\n",
       "        text-align: right;\n",
       "    }\n",
       "</style>\n",
       "<table border=\"1\" class=\"dataframe\">\n",
       "  <thead>\n",
       "    <tr style=\"text-align: right;\">\n",
       "      <th></th>\n",
       "      <th>Last Trade</th>\n",
       "      <th>Open</th>\n",
       "      <th>High</th>\n",
       "      <th>Low</th>\n",
       "      <th>Close</th>\n",
       "      <th>Volume</th>\n",
       "      <th>nTicks</th>\n",
       "    </tr>\n",
       "  </thead>\n",
       "  <tbody>\n",
       "    <tr>\n",
       "      <th>0</th>\n",
       "      <td>b'20030701094821000'</td>\n",
       "      <td>b'971.75'</td>\n",
       "      <td>b'975.0'</td>\n",
       "      <td>b'960.25'</td>\n",
       "      <td>b'962.25'</td>\n",
       "      <td>b'299957'</td>\n",
       "      <td>b'25999'</td>\n",
       "    </tr>\n",
       "    <tr>\n",
       "      <th>1</th>\n",
       "      <td>b'20030701132859000'</td>\n",
       "      <td>b'962.25'</td>\n",
       "      <td>b'976.5'</td>\n",
       "      <td>b'961.75'</td>\n",
       "      <td>b'976.25'</td>\n",
       "      <td>b'300042'</td>\n",
       "      <td>b'30272'</td>\n",
       "    </tr>\n",
       "    <tr>\n",
       "      <th>2</th>\n",
       "      <td>b'20030702084226000'</td>\n",
       "      <td>b'976.5'</td>\n",
       "      <td>b'986.25'</td>\n",
       "      <td>b'975.25'</td>\n",
       "      <td>b'985.75'</td>\n",
       "      <td>b'300000'</td>\n",
       "      <td>b'25924'</td>\n",
       "    </tr>\n",
       "    <tr>\n",
       "      <th>3</th>\n",
       "      <td>b'20030702120524000'</td>\n",
       "      <td>b'986.0'</td>\n",
       "      <td>b'990.0'</td>\n",
       "      <td>b'983.25'</td>\n",
       "      <td>b'987.75'</td>\n",
       "      <td>b'300001'</td>\n",
       "      <td>b'29810'</td>\n",
       "    </tr>\n",
       "    <tr>\n",
       "      <th>4</th>\n",
       "      <td>b'20030703085118000'</td>\n",
       "      <td>b'987.5'</td>\n",
       "      <td>b'994.0'</td>\n",
       "      <td>b'984.0'</td>\n",
       "      <td>b'988.75'</td>\n",
       "      <td>b'299999'</td>\n",
       "      <td>b'32632'</td>\n",
       "    </tr>\n",
       "  </tbody>\n",
       "</table>\n",
       "</div>"
      ],
      "text/plain": [
       "             Last Trade       Open       High        Low      Close  \\\n",
       "0  b'20030701094821000'  b'971.75'   b'975.0'  b'960.25'  b'962.25'   \n",
       "1  b'20030701132859000'  b'962.25'   b'976.5'  b'961.75'  b'976.25'   \n",
       "2  b'20030702084226000'   b'976.5'  b'986.25'  b'975.25'  b'985.75'   \n",
       "3  b'20030702120524000'   b'986.0'   b'990.0'  b'983.25'  b'987.75'   \n",
       "4  b'20030703085118000'   b'987.5'   b'994.0'   b'984.0'  b'988.75'   \n",
       "\n",
       "      Volume    nTicks  \n",
       "0  b'299957'  b'25999'  \n",
       "1  b'300042'  b'30272'  \n",
       "2  b'300000'  b'25924'  \n",
       "3  b'300001'  b'29810'  \n",
       "4  b'299999'  b'32632'  "
      ]
     },
     "execution_count": 42,
     "metadata": {},
     "output_type": "execute_result"
    }
   ],
   "source": [
    "# Sanity Check\n",
    "volume_bars_df.head()"
   ]
  },
  {
   "cell_type": "markdown",
   "metadata": {},
   "source": [
    "## Dollar Bars\n",
    "\n",
    "Finally, we will construct dollar bars. Dollar bars are sampled every time the price breaks a certain dollar-value threshold. This can happen in one trade, in many trades, and could take millions of transactions if your threshold is large enough. "
   ]
  },
  {
   "cell_type": "code",
   "execution_count": 135,
   "metadata": {},
   "outputs": [],
   "source": [
    "prices = samp_filt['Price']"
   ]
  },
  {
   "cell_type": "code",
   "execution_count": 136,
   "metadata": {},
   "outputs": [],
   "source": [
    "dollar_cumsum = np.diff(prices).cumsum()"
   ]
  },
  {
   "cell_type": "markdown",
   "metadata": {},
   "source": [
    "Every time the cumulative sum of price movements is greater than 10, we must form a new bar and reset the reference."
   ]
  },
  {
   "cell_type": "code",
   "execution_count": 179,
   "metadata": {},
   "outputs": [],
   "source": [
    "dol_idx = []\n",
    "benchmark = 0\n",
    "start_time = time.time()\n",
    "for i in range(len(dollar_cumsum)):\n",
    "    val = dollar_cumsum[i]\n",
    "    if np.abs(val-benchmark) > 10:\n",
    "        dol_idx.append(i)\n",
    "        benchmark = val\n",
    "end_time = time.time() "
   ]
  },
  {
   "cell_type": "code",
   "execution_count": 180,
   "metadata": {},
   "outputs": [],
   "source": [
    "pickle.dump(dol_idx, open('dol_idx.pkl','wb'))"
   ]
  },
  {
   "cell_type": "code",
   "execution_count": 45,
   "metadata": {},
   "outputs": [],
   "source": [
    "dol_idx = pickle.load(open('dol_idx.pkl','rb'))"
   ]
  },
  {
   "cell_type": "code",
   "execution_count": 21,
   "metadata": {},
   "outputs": [],
   "source": [
    "dol_splits = np.split(samp_filt, dol_idx)"
   ]
  },
  {
   "cell_type": "code",
   "execution_count": 22,
   "metadata": {},
   "outputs": [],
   "source": [
    "pickle.dump(dol_splits, open('dol_splits.pkl','wb'))"
   ]
  },
  {
   "cell_type": "code",
   "execution_count": 23,
   "metadata": {},
   "outputs": [
    {
     "data": {
      "text/plain": [
       "array([(b'ESU03', 971.75, b'20030630230001000', 1),\n",
       "       (b'ESU03', 972.  , b'20030630230005000', 1),\n",
       "       (b'ESU03', 972.  , b'20030630230009000', 2), ...,\n",
       "       (b'ESU03', 967.  , b'20030701074751000', 2),\n",
       "       (b'ESU03', 966.75, b'20030701074753000', 1),\n",
       "       (b'ESU03', 967.  , b'20030701074753000', 1)],\n",
       "      dtype=[('Instrument', 'S5'), ('Price', '<f4'), ('Time', 'S17'), ('Volume', '<u4')])"
      ]
     },
     "execution_count": 23,
     "metadata": {},
     "output_type": "execute_result"
    }
   ],
   "source": [
    "dol_splits[0]"
   ]
  },
  {
   "cell_type": "code",
   "execution_count": 24,
   "metadata": {
    "scrolled": true
   },
   "outputs": [],
   "source": [
    "last_times  = [dol_splits[i][-1]['Time'] for i in range(len(dol_splits))]\n",
    "openpx      = [dol_splits[i][0]['Price'] for i in range(len(dol_splits))]\n",
    "closepx     = [dol_splits[i][-1]['Price'] for i in range(len(dol_splits))]\n",
    "high        = [np.max(dol_splits[i]['Price']) for i in range(len(dol_splits))]\n",
    "low         = [np.min(dol_splits[i]['Price']) for i in range(len(dol_splits))]\n",
    "volume      = [np.sum(dol_splits[i]['Volume']) for i in range(len(dol_splits))]\n",
    "ticks       = [len(x) for x in dol_splits]"
   ]
  },
  {
   "cell_type": "code",
   "execution_count": 25,
   "metadata": {},
   "outputs": [],
   "source": [
    "dollar_bars_array = np.column_stack([last_times, openpx, high, low, closepx, volume, ticks])"
   ]
  },
  {
   "cell_type": "code",
   "execution_count": 26,
   "metadata": {},
   "outputs": [],
   "source": [
    "with open('dollar_bars_array.pkl', 'wb') as f:\n",
    "    pickle.dump(dollar_bars_array, f)"
   ]
  },
  {
   "cell_type": "code",
   "execution_count": 46,
   "metadata": {},
   "outputs": [],
   "source": [
    "dollar_bars_array = pickle.load(open('dollar_bars_array.pkl', 'rb'))"
   ]
  },
  {
   "cell_type": "code",
   "execution_count": 47,
   "metadata": {},
   "outputs": [],
   "source": [
    "dollar_bars_df = pd.DataFrame(dollar_bars_array)\n",
    "dollar_bars_df.columns = ['Last Trade', 'Open', 'High', 'Low', 'Close', 'Volume', 'nTicks']"
   ]
  },
  {
   "cell_type": "code",
   "execution_count": 28,
   "metadata": {},
   "outputs": [
    {
     "data": {
      "text/html": [
       "<div>\n",
       "<style scoped>\n",
       "    .dataframe tbody tr th:only-of-type {\n",
       "        vertical-align: middle;\n",
       "    }\n",
       "\n",
       "    .dataframe tbody tr th {\n",
       "        vertical-align: top;\n",
       "    }\n",
       "\n",
       "    .dataframe thead th {\n",
       "        text-align: right;\n",
       "    }\n",
       "</style>\n",
       "<table border=\"1\" class=\"dataframe\">\n",
       "  <thead>\n",
       "    <tr style=\"text-align: right;\">\n",
       "      <th></th>\n",
       "      <th>Last Trade</th>\n",
       "      <th>Open</th>\n",
       "      <th>High</th>\n",
       "      <th>Low</th>\n",
       "      <th>Close</th>\n",
       "      <th>Volume</th>\n",
       "      <th>nTicks</th>\n",
       "    </tr>\n",
       "  </thead>\n",
       "  <tbody>\n",
       "    <tr>\n",
       "      <th>0</th>\n",
       "      <td>b'20030701074753000'</td>\n",
       "      <td>b'971.75'</td>\n",
       "      <td>b'975.0'</td>\n",
       "      <td>b'966.75'</td>\n",
       "      <td>b'967.0'</td>\n",
       "      <td>b'13037'</td>\n",
       "      <td>b'2827'</td>\n",
       "    </tr>\n",
       "    <tr>\n",
       "      <th>1</th>\n",
       "      <td>b'20030701090529000'</td>\n",
       "      <td>b'966.75'</td>\n",
       "      <td>b'969.75'</td>\n",
       "      <td>b'961.5'</td>\n",
       "      <td>b'961.5'</td>\n",
       "      <td>b'130921'</td>\n",
       "      <td>b'11069'</td>\n",
       "    </tr>\n",
       "    <tr>\n",
       "      <th>2</th>\n",
       "      <td>b'20030701103005000'</td>\n",
       "      <td>b'961.5'</td>\n",
       "      <td>b'966.25'</td>\n",
       "      <td>b'960.25'</td>\n",
       "      <td>b'966.25'</td>\n",
       "      <td>b'224061'</td>\n",
       "      <td>b'17726'</td>\n",
       "    </tr>\n",
       "    <tr>\n",
       "      <th>3</th>\n",
       "      <td>b'20030701122800000'</td>\n",
       "      <td>b'966.25'</td>\n",
       "      <td>b'971.5'</td>\n",
       "      <td>b'962.75'</td>\n",
       "      <td>b'971.5'</td>\n",
       "      <td>b'128058'</td>\n",
       "      <td>b'13376'</td>\n",
       "    </tr>\n",
       "    <tr>\n",
       "      <th>4</th>\n",
       "      <td>b'20030701134001000'</td>\n",
       "      <td>b'971.5'</td>\n",
       "      <td>b'976.75'</td>\n",
       "      <td>b'968.5'</td>\n",
       "      <td>b'976.75'</td>\n",
       "      <td>b'127305'</td>\n",
       "      <td>b'13422'</td>\n",
       "    </tr>\n",
       "  </tbody>\n",
       "</table>\n",
       "</div>"
      ],
      "text/plain": [
       "             Last Trade       Open       High        Low      Close  \\\n",
       "0  b'20030701074753000'  b'971.75'   b'975.0'  b'966.75'   b'967.0'   \n",
       "1  b'20030701090529000'  b'966.75'  b'969.75'   b'961.5'   b'961.5'   \n",
       "2  b'20030701103005000'   b'961.5'  b'966.25'  b'960.25'  b'966.25'   \n",
       "3  b'20030701122800000'  b'966.25'   b'971.5'  b'962.75'   b'971.5'   \n",
       "4  b'20030701134001000'   b'971.5'  b'976.75'   b'968.5'  b'976.75'   \n",
       "\n",
       "      Volume    nTicks  \n",
       "0   b'13037'   b'2827'  \n",
       "1  b'130921'  b'11069'  \n",
       "2  b'224061'  b'17726'  \n",
       "3  b'128058'  b'13376'  \n",
       "4  b'127305'  b'13422'  "
      ]
     },
     "execution_count": 28,
     "metadata": {},
     "output_type": "execute_result"
    }
   ],
   "source": [
    "# Sanity Check\n",
    "dollar_bars_df.head()"
   ]
  },
  {
   "cell_type": "code",
   "execution_count": 152,
   "metadata": {},
   "outputs": [],
   "source": [
    "# # Old, Gross\n",
    "# # Every $2.00 move\n",
    "# px = prices[0]\n",
    "# npx = 2.00\n",
    "\n",
    "# # Append a flag every time price breaks\n",
    "# # last bar open +/- $2.00\n",
    "# flag = []\n",
    "\n",
    "# for i in range(len(prices)):\n",
    "    \n",
    "#     # Did the price break the threshold?\n",
    "#     if np.abs(prices[i] - px) >= npx:\n",
    "#         flag.append(1)\n",
    "#         px = prices[i]\n",
    "#     else:\n",
    "#         flag.append(0)\n",
    "\n",
    "# # Count number of flags\n",
    "# sumflag = np.cumsum(flag)"
   ]
  },
  {
   "cell_type": "markdown",
   "metadata": {},
   "source": [
    "Now, let's take a look at the size of each dataframe. I tried to pick thresholds such that the values are relatively close, but Dollar bars seem to be exceptionally sensitive. "
   ]
  },
  {
   "cell_type": "code",
   "execution_count": 52,
   "metadata": {},
   "outputs": [
    {
     "data": {
      "text/plain": [
       "17124"
      ]
     },
     "execution_count": 52,
     "metadata": {},
     "output_type": "execute_result"
    }
   ],
   "source": [
    "len(tick_bars_df)"
   ]
  },
  {
   "cell_type": "code",
   "execution_count": 53,
   "metadata": {},
   "outputs": [
    {
     "data": {
      "text/plain": [
       "16021"
      ]
     },
     "execution_count": 53,
     "metadata": {},
     "output_type": "execute_result"
    }
   ],
   "source": [
    "len(volume_bars_df)"
   ]
  },
  {
   "cell_type": "code",
   "execution_count": 54,
   "metadata": {},
   "outputs": [
    {
     "data": {
      "text/plain": [
       "6320"
      ]
     },
     "execution_count": 54,
     "metadata": {},
     "output_type": "execute_result"
    }
   ],
   "source": [
    "len(dollar_bars_df)"
   ]
  },
  {
   "cell_type": "markdown",
   "metadata": {},
   "source": [
    "# Counting Bars on Weekly Basis\n",
    "\n",
    "Now, let's try to answer some questions. We must first try to coerce these date bytes into datetimes, to make the modelling process easier. Let us explore:"
   ]
  },
  {
   "cell_type": "code",
   "execution_count": 55,
   "metadata": {},
   "outputs": [],
   "source": [
    "tick_bars = tick_bars_df.copy()\n",
    "volume_bars = volume_bars_df.copy()\n",
    "dollar_bars = dollar_bars_df.copy()"
   ]
  },
  {
   "cell_type": "code",
   "execution_count": 56,
   "metadata": {},
   "outputs": [
    {
     "data": {
      "text/html": [
       "<div>\n",
       "<style scoped>\n",
       "    .dataframe tbody tr th:only-of-type {\n",
       "        vertical-align: middle;\n",
       "    }\n",
       "\n",
       "    .dataframe tbody tr th {\n",
       "        vertical-align: top;\n",
       "    }\n",
       "\n",
       "    .dataframe thead th {\n",
       "        text-align: right;\n",
       "    }\n",
       "</style>\n",
       "<table border=\"1\" class=\"dataframe\">\n",
       "  <thead>\n",
       "    <tr style=\"text-align: right;\">\n",
       "      <th></th>\n",
       "      <th>Last Trade</th>\n",
       "      <th>Open</th>\n",
       "      <th>High</th>\n",
       "      <th>Low</th>\n",
       "      <th>Close</th>\n",
       "      <th>Volume</th>\n",
       "      <th>nTicks</th>\n",
       "    </tr>\n",
       "  </thead>\n",
       "  <tbody>\n",
       "    <tr>\n",
       "      <th>0</th>\n",
       "      <td>b'20030701130456000'</td>\n",
       "      <td>b'971.75'</td>\n",
       "      <td>b'975.0'</td>\n",
       "      <td>b'960.25'</td>\n",
       "      <td>b'969.75'</td>\n",
       "      <td>b'535697'</td>\n",
       "      <td>b'50000'</td>\n",
       "    </tr>\n",
       "    <tr>\n",
       "      <th>1</th>\n",
       "      <td>b'20030702101221000'</td>\n",
       "      <td>b'969.75'</td>\n",
       "      <td>b'988.5'</td>\n",
       "      <td>b'968.5'</td>\n",
       "      <td>b'985.0'</td>\n",
       "      <td>b'544351'</td>\n",
       "      <td>b'50000'</td>\n",
       "    </tr>\n",
       "    <tr>\n",
       "      <th>2</th>\n",
       "      <td>b'20030703090805000'</td>\n",
       "      <td>b'985.0'</td>\n",
       "      <td>b'994.0'</td>\n",
       "      <td>b'983.5'</td>\n",
       "      <td>b'990.5'</td>\n",
       "      <td>b'469973'</td>\n",
       "      <td>b'50000'</td>\n",
       "    </tr>\n",
       "    <tr>\n",
       "      <th>3</th>\n",
       "      <td>b'20030707093010000'</td>\n",
       "      <td>b'990.75'</td>\n",
       "      <td>b'1004.25'</td>\n",
       "      <td>b'974.5'</td>\n",
       "      <td>b'1003.0'</td>\n",
       "      <td>b'520279'</td>\n",
       "      <td>b'50000'</td>\n",
       "    </tr>\n",
       "    <tr>\n",
       "      <th>4</th>\n",
       "      <td>b'20030708090527000'</td>\n",
       "      <td>b'1003.0'</td>\n",
       "      <td>b'1005.0'</td>\n",
       "      <td>b'997.5'</td>\n",
       "      <td>b'998.0'</td>\n",
       "      <td>b'513521'</td>\n",
       "      <td>b'50000'</td>\n",
       "    </tr>\n",
       "  </tbody>\n",
       "</table>\n",
       "</div>"
      ],
      "text/plain": [
       "             Last Trade       Open        High        Low      Close  \\\n",
       "0  b'20030701130456000'  b'971.75'    b'975.0'  b'960.25'  b'969.75'   \n",
       "1  b'20030702101221000'  b'969.75'    b'988.5'   b'968.5'   b'985.0'   \n",
       "2  b'20030703090805000'   b'985.0'    b'994.0'   b'983.5'   b'990.5'   \n",
       "3  b'20030707093010000'  b'990.75'  b'1004.25'   b'974.5'  b'1003.0'   \n",
       "4  b'20030708090527000'  b'1003.0'   b'1005.0'   b'997.5'   b'998.0'   \n",
       "\n",
       "      Volume    nTicks  \n",
       "0  b'535697'  b'50000'  \n",
       "1  b'544351'  b'50000'  \n",
       "2  b'469973'  b'50000'  \n",
       "3  b'520279'  b'50000'  \n",
       "4  b'513521'  b'50000'  "
      ]
     },
     "execution_count": 56,
     "metadata": {},
     "output_type": "execute_result"
    }
   ],
   "source": [
    "tick_bars.head()"
   ]
  },
  {
   "cell_type": "code",
   "execution_count": 57,
   "metadata": {},
   "outputs": [
    {
     "data": {
      "text/plain": [
       "'20030701'"
      ]
     },
     "execution_count": 57,
     "metadata": {},
     "output_type": "execute_result"
    }
   ],
   "source": [
    "# Date\n",
    "str(tick_bars['Last Trade'][0])[2:10]"
   ]
  },
  {
   "cell_type": "code",
   "execution_count": 58,
   "metadata": {},
   "outputs": [
    {
     "data": {
      "text/plain": [
       "'20101203090519000'"
      ]
     },
     "execution_count": 58,
     "metadata": {},
     "output_type": "execute_result"
    }
   ],
   "source": [
    "# Whole value\n",
    "tmp = str(tick_bars['Last Trade'][7000])[2:19]\n",
    "tmp"
   ]
  },
  {
   "cell_type": "code",
   "execution_count": 59,
   "metadata": {},
   "outputs": [
    {
     "data": {
      "text/plain": [
       "datetime.datetime(2010, 12, 3, 9, 5, 19)"
      ]
     },
     "execution_count": 59,
     "metadata": {},
     "output_type": "execute_result"
    }
   ],
   "source": [
    "# Coerce to datetime\n",
    "datetime.strptime(tmp, '%Y%m%d%H%M%S%f')"
   ]
  },
  {
   "cell_type": "code",
   "execution_count": 60,
   "metadata": {},
   "outputs": [],
   "source": [
    "# Convert each date in each bar dataframe to datetime, set the \n",
    "# index of each bar df to the dates\n",
    "for df in [tick_bars, volume_bars, dollar_bars]:\n",
    "    candidates = [str(x)[2:19] for x in df['Last Trade']]\n",
    "    converts = [datetime.strptime(x, '%Y%m%d%H%M%S%f') for x in candidates]\n",
    "    df.index = converts"
   ]
  },
  {
   "cell_type": "code",
   "execution_count": 61,
   "metadata": {},
   "outputs": [
    {
     "data": {
      "text/html": [
       "<div>\n",
       "<style scoped>\n",
       "    .dataframe tbody tr th:only-of-type {\n",
       "        vertical-align: middle;\n",
       "    }\n",
       "\n",
       "    .dataframe tbody tr th {\n",
       "        vertical-align: top;\n",
       "    }\n",
       "\n",
       "    .dataframe thead th {\n",
       "        text-align: right;\n",
       "    }\n",
       "</style>\n",
       "<table border=\"1\" class=\"dataframe\">\n",
       "  <thead>\n",
       "    <tr style=\"text-align: right;\">\n",
       "      <th></th>\n",
       "      <th>Last Trade</th>\n",
       "      <th>Open</th>\n",
       "      <th>High</th>\n",
       "      <th>Low</th>\n",
       "      <th>Close</th>\n",
       "      <th>Volume</th>\n",
       "      <th>nTicks</th>\n",
       "    </tr>\n",
       "  </thead>\n",
       "  <tbody>\n",
       "    <tr>\n",
       "      <th>2003-07-01 13:04:56</th>\n",
       "      <td>b'20030701130456000'</td>\n",
       "      <td>b'971.75'</td>\n",
       "      <td>b'975.0'</td>\n",
       "      <td>b'960.25'</td>\n",
       "      <td>b'969.75'</td>\n",
       "      <td>b'535697'</td>\n",
       "      <td>b'50000'</td>\n",
       "    </tr>\n",
       "    <tr>\n",
       "      <th>2003-07-02 10:12:21</th>\n",
       "      <td>b'20030702101221000'</td>\n",
       "      <td>b'969.75'</td>\n",
       "      <td>b'988.5'</td>\n",
       "      <td>b'968.5'</td>\n",
       "      <td>b'985.0'</td>\n",
       "      <td>b'544351'</td>\n",
       "      <td>b'50000'</td>\n",
       "    </tr>\n",
       "    <tr>\n",
       "      <th>2003-07-03 09:08:05</th>\n",
       "      <td>b'20030703090805000'</td>\n",
       "      <td>b'985.0'</td>\n",
       "      <td>b'994.0'</td>\n",
       "      <td>b'983.5'</td>\n",
       "      <td>b'990.5'</td>\n",
       "      <td>b'469973'</td>\n",
       "      <td>b'50000'</td>\n",
       "    </tr>\n",
       "    <tr>\n",
       "      <th>2003-07-07 09:30:10</th>\n",
       "      <td>b'20030707093010000'</td>\n",
       "      <td>b'990.75'</td>\n",
       "      <td>b'1004.25'</td>\n",
       "      <td>b'974.5'</td>\n",
       "      <td>b'1003.0'</td>\n",
       "      <td>b'520279'</td>\n",
       "      <td>b'50000'</td>\n",
       "    </tr>\n",
       "    <tr>\n",
       "      <th>2003-07-08 09:05:27</th>\n",
       "      <td>b'20030708090527000'</td>\n",
       "      <td>b'1003.0'</td>\n",
       "      <td>b'1005.0'</td>\n",
       "      <td>b'997.5'</td>\n",
       "      <td>b'998.0'</td>\n",
       "      <td>b'513521'</td>\n",
       "      <td>b'50000'</td>\n",
       "    </tr>\n",
       "  </tbody>\n",
       "</table>\n",
       "</div>"
      ],
      "text/plain": [
       "                               Last Trade       Open        High        Low  \\\n",
       "2003-07-01 13:04:56  b'20030701130456000'  b'971.75'    b'975.0'  b'960.25'   \n",
       "2003-07-02 10:12:21  b'20030702101221000'  b'969.75'    b'988.5'   b'968.5'   \n",
       "2003-07-03 09:08:05  b'20030703090805000'   b'985.0'    b'994.0'   b'983.5'   \n",
       "2003-07-07 09:30:10  b'20030707093010000'  b'990.75'  b'1004.25'   b'974.5'   \n",
       "2003-07-08 09:05:27  b'20030708090527000'  b'1003.0'   b'1005.0'   b'997.5'   \n",
       "\n",
       "                         Close     Volume    nTicks  \n",
       "2003-07-01 13:04:56  b'969.75'  b'535697'  b'50000'  \n",
       "2003-07-02 10:12:21   b'985.0'  b'544351'  b'50000'  \n",
       "2003-07-03 09:08:05   b'990.5'  b'469973'  b'50000'  \n",
       "2003-07-07 09:30:10  b'1003.0'  b'520279'  b'50000'  \n",
       "2003-07-08 09:05:27   b'998.0'  b'513521'  b'50000'  "
      ]
     },
     "execution_count": 61,
     "metadata": {},
     "output_type": "execute_result"
    }
   ],
   "source": [
    "# Sanity check\n",
    "tick_bars.head()"
   ]
  },
  {
   "cell_type": "code",
   "execution_count": 62,
   "metadata": {},
   "outputs": [
    {
     "data": {
      "text/html": [
       "<div>\n",
       "<style scoped>\n",
       "    .dataframe tbody tr th:only-of-type {\n",
       "        vertical-align: middle;\n",
       "    }\n",
       "\n",
       "    .dataframe tbody tr th {\n",
       "        vertical-align: top;\n",
       "    }\n",
       "\n",
       "    .dataframe thead th {\n",
       "        text-align: right;\n",
       "    }\n",
       "</style>\n",
       "<table border=\"1\" class=\"dataframe\">\n",
       "  <thead>\n",
       "    <tr style=\"text-align: right;\">\n",
       "      <th></th>\n",
       "      <th>Last Trade</th>\n",
       "      <th>Open</th>\n",
       "      <th>High</th>\n",
       "      <th>Low</th>\n",
       "      <th>Close</th>\n",
       "      <th>Volume</th>\n",
       "      <th>nTicks</th>\n",
       "    </tr>\n",
       "  </thead>\n",
       "  <tbody>\n",
       "    <tr>\n",
       "      <th>2003-07-01 09:48:21</th>\n",
       "      <td>b'20030701094821000'</td>\n",
       "      <td>b'971.75'</td>\n",
       "      <td>b'975.0'</td>\n",
       "      <td>b'960.25'</td>\n",
       "      <td>b'962.25'</td>\n",
       "      <td>b'299957'</td>\n",
       "      <td>b'25999'</td>\n",
       "    </tr>\n",
       "    <tr>\n",
       "      <th>2003-07-01 13:28:59</th>\n",
       "      <td>b'20030701132859000'</td>\n",
       "      <td>b'962.25'</td>\n",
       "      <td>b'976.5'</td>\n",
       "      <td>b'961.75'</td>\n",
       "      <td>b'976.25'</td>\n",
       "      <td>b'300042'</td>\n",
       "      <td>b'30272'</td>\n",
       "    </tr>\n",
       "    <tr>\n",
       "      <th>2003-07-02 08:42:26</th>\n",
       "      <td>b'20030702084226000'</td>\n",
       "      <td>b'976.5'</td>\n",
       "      <td>b'986.25'</td>\n",
       "      <td>b'975.25'</td>\n",
       "      <td>b'985.75'</td>\n",
       "      <td>b'300000'</td>\n",
       "      <td>b'25924'</td>\n",
       "    </tr>\n",
       "    <tr>\n",
       "      <th>2003-07-02 12:05:24</th>\n",
       "      <td>b'20030702120524000'</td>\n",
       "      <td>b'986.0'</td>\n",
       "      <td>b'990.0'</td>\n",
       "      <td>b'983.25'</td>\n",
       "      <td>b'987.75'</td>\n",
       "      <td>b'300001'</td>\n",
       "      <td>b'29810'</td>\n",
       "    </tr>\n",
       "    <tr>\n",
       "      <th>2003-07-03 08:51:18</th>\n",
       "      <td>b'20030703085118000'</td>\n",
       "      <td>b'987.5'</td>\n",
       "      <td>b'994.0'</td>\n",
       "      <td>b'984.0'</td>\n",
       "      <td>b'988.75'</td>\n",
       "      <td>b'299999'</td>\n",
       "      <td>b'32632'</td>\n",
       "    </tr>\n",
       "  </tbody>\n",
       "</table>\n",
       "</div>"
      ],
      "text/plain": [
       "                               Last Trade       Open       High        Low  \\\n",
       "2003-07-01 09:48:21  b'20030701094821000'  b'971.75'   b'975.0'  b'960.25'   \n",
       "2003-07-01 13:28:59  b'20030701132859000'  b'962.25'   b'976.5'  b'961.75'   \n",
       "2003-07-02 08:42:26  b'20030702084226000'   b'976.5'  b'986.25'  b'975.25'   \n",
       "2003-07-02 12:05:24  b'20030702120524000'   b'986.0'   b'990.0'  b'983.25'   \n",
       "2003-07-03 08:51:18  b'20030703085118000'   b'987.5'   b'994.0'   b'984.0'   \n",
       "\n",
       "                         Close     Volume    nTicks  \n",
       "2003-07-01 09:48:21  b'962.25'  b'299957'  b'25999'  \n",
       "2003-07-01 13:28:59  b'976.25'  b'300042'  b'30272'  \n",
       "2003-07-02 08:42:26  b'985.75'  b'300000'  b'25924'  \n",
       "2003-07-02 12:05:24  b'987.75'  b'300001'  b'29810'  \n",
       "2003-07-03 08:51:18  b'988.75'  b'299999'  b'32632'  "
      ]
     },
     "execution_count": 62,
     "metadata": {},
     "output_type": "execute_result"
    }
   ],
   "source": [
    "volume_bars.head()"
   ]
  },
  {
   "cell_type": "code",
   "execution_count": 63,
   "metadata": {},
   "outputs": [
    {
     "data": {
      "text/html": [
       "<div>\n",
       "<style scoped>\n",
       "    .dataframe tbody tr th:only-of-type {\n",
       "        vertical-align: middle;\n",
       "    }\n",
       "\n",
       "    .dataframe tbody tr th {\n",
       "        vertical-align: top;\n",
       "    }\n",
       "\n",
       "    .dataframe thead th {\n",
       "        text-align: right;\n",
       "    }\n",
       "</style>\n",
       "<table border=\"1\" class=\"dataframe\">\n",
       "  <thead>\n",
       "    <tr style=\"text-align: right;\">\n",
       "      <th></th>\n",
       "      <th>Last Trade</th>\n",
       "      <th>Open</th>\n",
       "      <th>High</th>\n",
       "      <th>Low</th>\n",
       "      <th>Close</th>\n",
       "      <th>Volume</th>\n",
       "      <th>nTicks</th>\n",
       "    </tr>\n",
       "  </thead>\n",
       "  <tbody>\n",
       "    <tr>\n",
       "      <th>2003-07-01 09:05:16</th>\n",
       "      <td>b'20030701090516000'</td>\n",
       "      <td>b'971.75'</td>\n",
       "      <td>b'975.0'</td>\n",
       "      <td>b'961.75'</td>\n",
       "      <td>b'961.75'</td>\n",
       "      <td>b'140901'</td>\n",
       "      <td>b'13682'</td>\n",
       "    </tr>\n",
       "    <tr>\n",
       "      <th>2003-07-01 12:28:00</th>\n",
       "      <td>b'20030701122800000'</td>\n",
       "      <td>b'961.75'</td>\n",
       "      <td>b'971.5'</td>\n",
       "      <td>b'960.25'</td>\n",
       "      <td>b'971.5'</td>\n",
       "      <td>b'355176'</td>\n",
       "      <td>b'31316'</td>\n",
       "    </tr>\n",
       "    <tr>\n",
       "      <th>2003-07-01 14:54:08</th>\n",
       "      <td>b'20030701145408000'</td>\n",
       "      <td>b'971.5'</td>\n",
       "      <td>b'981.75'</td>\n",
       "      <td>b'968.5'</td>\n",
       "      <td>b'981.75'</td>\n",
       "      <td>b'294643'</td>\n",
       "      <td>b'26798'</td>\n",
       "    </tr>\n",
       "    <tr>\n",
       "      <th>2003-07-02 14:12:06</th>\n",
       "      <td>b'20030702141206000'</td>\n",
       "      <td>b'981.75'</td>\n",
       "      <td>b'992.0'</td>\n",
       "      <td>b'980.5'</td>\n",
       "      <td>b'992.0'</td>\n",
       "      <td>b'528559'</td>\n",
       "      <td>b'54216'</td>\n",
       "    </tr>\n",
       "    <tr>\n",
       "      <th>2003-07-03 09:38:29</th>\n",
       "      <td>b'20030703093829000'</td>\n",
       "      <td>b'992.0'</td>\n",
       "      <td>b'994.25'</td>\n",
       "      <td>b'982.25'</td>\n",
       "      <td>b'982.25'</td>\n",
       "      <td>b'315913'</td>\n",
       "      <td>b'32399'</td>\n",
       "    </tr>\n",
       "  </tbody>\n",
       "</table>\n",
       "</div>"
      ],
      "text/plain": [
       "                               Last Trade       Open       High        Low  \\\n",
       "2003-07-01 09:05:16  b'20030701090516000'  b'971.75'   b'975.0'  b'961.75'   \n",
       "2003-07-01 12:28:00  b'20030701122800000'  b'961.75'   b'971.5'  b'960.25'   \n",
       "2003-07-01 14:54:08  b'20030701145408000'   b'971.5'  b'981.75'   b'968.5'   \n",
       "2003-07-02 14:12:06  b'20030702141206000'  b'981.75'   b'992.0'   b'980.5'   \n",
       "2003-07-03 09:38:29  b'20030703093829000'   b'992.0'  b'994.25'  b'982.25'   \n",
       "\n",
       "                         Close     Volume    nTicks  \n",
       "2003-07-01 09:05:16  b'961.75'  b'140901'  b'13682'  \n",
       "2003-07-01 12:28:00   b'971.5'  b'355176'  b'31316'  \n",
       "2003-07-01 14:54:08  b'981.75'  b'294643'  b'26798'  \n",
       "2003-07-02 14:12:06   b'992.0'  b'528559'  b'54216'  \n",
       "2003-07-03 09:38:29  b'982.25'  b'315913'  b'32399'  "
      ]
     },
     "execution_count": 63,
     "metadata": {},
     "output_type": "execute_result"
    }
   ],
   "source": [
    "dollar_bars.head()"
   ]
  },
  {
   "cell_type": "markdown",
   "metadata": {},
   "source": [
    "Now we can easily use .groupby to group all of these bars into weekly counts:"
   ]
  },
  {
   "cell_type": "code",
   "execution_count": 64,
   "metadata": {},
   "outputs": [
    {
     "data": {
      "text/plain": [
       "2003-07-06    3\n",
       "2003-07-13    6\n",
       "2003-07-20    7\n",
       "2003-07-27    7\n",
       "2003-08-03    7\n",
       "Freq: W-SUN, Name: Last Trade, dtype: int64"
      ]
     },
     "execution_count": 64,
     "metadata": {},
     "output_type": "execute_result"
    }
   ],
   "source": [
    "tick_weekly_count = tick_bars.groupby(pd.Grouper(freq='W')).count()[\"Last Trade\"]\n",
    "tick_weekly_count.head()"
   ]
  },
  {
   "cell_type": "code",
   "execution_count": 65,
   "metadata": {},
   "outputs": [
    {
     "data": {
      "text/plain": [
       "2003-07-06     6\n",
       "2003-07-13    10\n",
       "2003-07-20    12\n",
       "2003-07-27    11\n",
       "2003-08-03    12\n",
       "Freq: W-SUN, Name: Last Trade, dtype: int64"
      ]
     },
     "execution_count": 65,
     "metadata": {},
     "output_type": "execute_result"
    }
   ],
   "source": [
    "volume_weekly_count = volume_bars.groupby(pd.Grouper(freq='W')).count()[\"Last Trade\"]\n",
    "volume_weekly_count.head()"
   ]
  },
  {
   "cell_type": "code",
   "execution_count": 66,
   "metadata": {},
   "outputs": [
    {
     "data": {
      "text/plain": [
       "2003-07-06    5\n",
       "2003-07-13    6\n",
       "2003-07-20    5\n",
       "2003-07-27    4\n",
       "2003-08-03    5\n",
       "Freq: W-SUN, Name: Last Trade, dtype: int64"
      ]
     },
     "execution_count": 66,
     "metadata": {},
     "output_type": "execute_result"
    }
   ],
   "source": [
    "dollar_weekly_count = dollar_bars.groupby(pd.Grouper(freq='W')).count()[\"Last Trade\"]\n",
    "dollar_weekly_count.head()"
   ]
  },
  {
   "cell_type": "markdown",
   "metadata": {},
   "source": [
    "Now, let's plot these results and see what we find!"
   ]
  },
  {
   "cell_type": "code",
   "execution_count": 67,
   "metadata": {},
   "outputs": [
    {
     "data": {
      "image/png": "[encoded data removed]",
      "text/plain": [
       "<Figure size 720x576 with 1 Axes>"
      ]
     },
     "metadata": {
      "needs_background": "light"
     },
     "output_type": "display_data"
    }
   ],
   "source": [
    "fig, ax = plt.subplots(figsize=(10,8))\n",
    "ax.plot(tick_weekly_count, label='Tick Bars')\n",
    "ax.plot(volume_weekly_count, label='Volume Bars')\n",
    "ax.plot(dollar_weekly_count, label='Dollar Bars')\n",
    "plt.legend()\n",
    "plt.title('Counts of Various Standard Bars')\n",
    "plt.xlabel('Date')\n",
    "plt.ylabel('Count')\n",
    "plt.show()"
   ]
  },
  {
   "cell_type": "markdown",
   "metadata": {},
   "source": [
    "I believe it is safe to say that **dollar bars are the most stable of the three.** I think I can justify this by saying that the volume of a product increases as the price lowers. If an asset manager wants to buy $\\$$1 million of ES, they will get more contracts at a lower price, which helps justify why volume is unstable. \n",
    "\n",
    "Furthermore, frequency of ticks is likely correlated to liquidity. As order books dry up, there are less transactions, and therefore less ticks. So in a market panic, when liquidity dries up, so does the number of ticks. I suppose we can convince ourselves of this using the large drop in volume and ticks by considering the following charts:"
   ]
  },
  {
   "cell_type": "code",
   "execution_count": 69,
   "metadata": {},
   "outputs": [
    {
     "data": {
      "image/png": "[encoded data removed]",
      "text/plain": [
       "<Figure size 720x432 with 3 Axes>"
      ]
     },
     "metadata": {
      "needs_background": "light"
     },
     "output_type": "display_data"
    }
   ],
   "source": [
    "fig, ax = plt.subplots(figsize=(10,6))\n",
    "ax = plt.subplot(3,1,1)\n",
    "plt.plot(tick_weekly_count, label='Tick Bars')\n",
    "plt.legend()\n",
    "ax = plt.subplot(3,1,2)\n",
    "plt.plot(volume_weekly_count, label='Volume Bars')\n",
    "plt.legend()\n",
    "ax = plt.subplot(3,1,3)\n",
    "plt.plot(dollar_weekly_count, label='Dollar Bars')\n",
    "plt.legend()\n",
    "plt.show()"
   ]
  },
  {
   "cell_type": "markdown",
   "metadata": {},
   "source": [
    "We can see that dollar bars behave basically the same as VIX. Long periods of calm and large spikes during periods of high volatility. "
   ]
  },
  {
   "cell_type": "markdown",
   "metadata": {},
   "source": [
    "# Serial Correlation\n",
    "\n",
    "Next, we will take a look at the serial correlation of these bars. As the question asks, we will simply compute the serial correlation of each bar type, and see which bar produces the lowest number!"
   ]
  },
  {
   "cell_type": "code",
   "execution_count": 70,
   "metadata": {},
   "outputs": [
    {
     "data": {
      "text/plain": [
       "2003-07-01 13:04:56.000     969.75\n",
       "2003-07-02 10:12:21.000     985.00\n",
       "2003-07-03 09:08:05.000     990.50\n",
       "2003-07-07 09:30:10.000    1003.00\n",
       "2003-07-08 09:05:27.000     998.00\n",
       "                            ...   \n",
       "2015-10-12 14:46:03.659    2009.25\n",
       "2015-10-13 08:31:25.625    1998.50\n",
       "2015-10-13 10:13:00.268    2014.25\n",
       "2015-10-13 13:48:16.729    2002.00\n",
       "2015-10-13 15:59:59.134    1992.25\n",
       "Name: Close, Length: 17124, dtype: float64"
      ]
     },
     "execution_count": 70,
     "metadata": {},
     "output_type": "execute_result"
    }
   ],
   "source": [
    "# Convert bytes to numbers for easy manipulation\n",
    "pd.to_numeric(tick_bars['Close'])"
   ]
  },
  {
   "cell_type": "code",
   "execution_count": 71,
   "metadata": {},
   "outputs": [
    {
     "data": {
      "text/html": [
       "<div>\n",
       "<style scoped>\n",
       "    .dataframe tbody tr th:only-of-type {\n",
       "        vertical-align: middle;\n",
       "    }\n",
       "\n",
       "    .dataframe tbody tr th {\n",
       "        vertical-align: top;\n",
       "    }\n",
       "\n",
       "    .dataframe thead th {\n",
       "        text-align: right;\n",
       "    }\n",
       "</style>\n",
       "<table border=\"1\" class=\"dataframe\">\n",
       "  <thead>\n",
       "    <tr style=\"text-align: right;\">\n",
       "      <th></th>\n",
       "      <th>Tick Bar Returns</th>\n",
       "    </tr>\n",
       "  </thead>\n",
       "  <tbody>\n",
       "    <tr>\n",
       "      <th>2003-07-02 10:12:21</th>\n",
       "      <td>0.015726</td>\n",
       "    </tr>\n",
       "    <tr>\n",
       "      <th>2003-07-03 09:08:05</th>\n",
       "      <td>0.005584</td>\n",
       "    </tr>\n",
       "    <tr>\n",
       "      <th>2003-07-07 09:30:10</th>\n",
       "      <td>0.012620</td>\n",
       "    </tr>\n",
       "    <tr>\n",
       "      <th>2003-07-08 09:05:27</th>\n",
       "      <td>-0.004985</td>\n",
       "    </tr>\n",
       "    <tr>\n",
       "      <th>2003-07-09 08:36:49</th>\n",
       "      <td>0.009018</td>\n",
       "    </tr>\n",
       "  </tbody>\n",
       "</table>\n",
       "</div>"
      ],
      "text/plain": [
       "                     Tick Bar Returns\n",
       "2003-07-02 10:12:21          0.015726\n",
       "2003-07-03 09:08:05          0.005584\n",
       "2003-07-07 09:30:10          0.012620\n",
       "2003-07-08 09:05:27         -0.004985\n",
       "2003-07-09 08:36:49          0.009018"
      ]
     },
     "execution_count": 71,
     "metadata": {},
     "output_type": "execute_result"
    }
   ],
   "source": [
    "tick_pxrets = pd.DataFrame(pd.to_numeric(tick_bars['Close']).pct_change()[1:], \n",
    "                           index=tick_bars.index[1:])\n",
    "\n",
    "tick_pxrets.columns = ['Tick Bar Returns']\n",
    "tick_pxrets.head()"
   ]
  },
  {
   "cell_type": "code",
   "execution_count": 72,
   "metadata": {},
   "outputs": [
    {
     "data": {
      "text/html": [
       "<div>\n",
       "<style scoped>\n",
       "    .dataframe tbody tr th:only-of-type {\n",
       "        vertical-align: middle;\n",
       "    }\n",
       "\n",
       "    .dataframe tbody tr th {\n",
       "        vertical-align: top;\n",
       "    }\n",
       "\n",
       "    .dataframe thead th {\n",
       "        text-align: right;\n",
       "    }\n",
       "</style>\n",
       "<table border=\"1\" class=\"dataframe\">\n",
       "  <thead>\n",
       "    <tr style=\"text-align: right;\">\n",
       "      <th></th>\n",
       "      <th>Volume Bar Returns</th>\n",
       "    </tr>\n",
       "  </thead>\n",
       "  <tbody>\n",
       "    <tr>\n",
       "      <th>2003-07-01 13:28:59</th>\n",
       "      <td>0.014549</td>\n",
       "    </tr>\n",
       "    <tr>\n",
       "      <th>2003-07-02 08:42:26</th>\n",
       "      <td>0.009731</td>\n",
       "    </tr>\n",
       "    <tr>\n",
       "      <th>2003-07-02 12:05:24</th>\n",
       "      <td>0.002029</td>\n",
       "    </tr>\n",
       "    <tr>\n",
       "      <th>2003-07-03 08:51:18</th>\n",
       "      <td>0.001012</td>\n",
       "    </tr>\n",
       "    <tr>\n",
       "      <th>2003-07-03 11:32:48</th>\n",
       "      <td>-0.002781</td>\n",
       "    </tr>\n",
       "  </tbody>\n",
       "</table>\n",
       "</div>"
      ],
      "text/plain": [
       "                     Volume Bar Returns\n",
       "2003-07-01 13:28:59            0.014549\n",
       "2003-07-02 08:42:26            0.009731\n",
       "2003-07-02 12:05:24            0.002029\n",
       "2003-07-03 08:51:18            0.001012\n",
       "2003-07-03 11:32:48           -0.002781"
      ]
     },
     "execution_count": 72,
     "metadata": {},
     "output_type": "execute_result"
    }
   ],
   "source": [
    "volume_pxrets = pd.DataFrame(pd.to_numeric(volume_bars['Close']).pct_change()[1:], \n",
    "                           index=volume_bars.index[1:])\n",
    "\n",
    "volume_pxrets.columns = ['Volume Bar Returns']\n",
    "volume_pxrets.head()"
   ]
  },
  {
   "cell_type": "code",
   "execution_count": 73,
   "metadata": {},
   "outputs": [
    {
     "data": {
      "text/html": [
       "<div>\n",
       "<style scoped>\n",
       "    .dataframe tbody tr th:only-of-type {\n",
       "        vertical-align: middle;\n",
       "    }\n",
       "\n",
       "    .dataframe tbody tr th {\n",
       "        vertical-align: top;\n",
       "    }\n",
       "\n",
       "    .dataframe thead th {\n",
       "        text-align: right;\n",
       "    }\n",
       "</style>\n",
       "<table border=\"1\" class=\"dataframe\">\n",
       "  <thead>\n",
       "    <tr style=\"text-align: right;\">\n",
       "      <th></th>\n",
       "      <th>Dollar Bar Returns</th>\n",
       "    </tr>\n",
       "  </thead>\n",
       "  <tbody>\n",
       "    <tr>\n",
       "      <th>2003-07-01 12:28:00</th>\n",
       "      <td>0.010138</td>\n",
       "    </tr>\n",
       "    <tr>\n",
       "      <th>2003-07-01 14:54:08</th>\n",
       "      <td>0.010551</td>\n",
       "    </tr>\n",
       "    <tr>\n",
       "      <th>2003-07-02 14:12:06</th>\n",
       "      <td>0.010441</td>\n",
       "    </tr>\n",
       "    <tr>\n",
       "      <th>2003-07-03 09:38:29</th>\n",
       "      <td>-0.009829</td>\n",
       "    </tr>\n",
       "    <tr>\n",
       "      <th>2003-07-07 02:59:37</th>\n",
       "      <td>0.009926</td>\n",
       "    </tr>\n",
       "  </tbody>\n",
       "</table>\n",
       "</div>"
      ],
      "text/plain": [
       "                     Dollar Bar Returns\n",
       "2003-07-01 12:28:00            0.010138\n",
       "2003-07-01 14:54:08            0.010551\n",
       "2003-07-02 14:12:06            0.010441\n",
       "2003-07-03 09:38:29           -0.009829\n",
       "2003-07-07 02:59:37            0.009926"
      ]
     },
     "execution_count": 73,
     "metadata": {},
     "output_type": "execute_result"
    }
   ],
   "source": [
    "dollar_pxrets = pd.DataFrame(pd.to_numeric(dollar_bars['Close']).pct_change()[1:], \n",
    "                           index=dollar_bars.index[1:])\n",
    "\n",
    "dollar_pxrets.columns = ['Dollar Bar Returns']\n",
    "dollar_pxrets.head()"
   ]
  },
  {
   "cell_type": "markdown",
   "metadata": {},
   "source": [
    "Calculate autocorrelations:"
   ]
  },
  {
   "cell_type": "code",
   "execution_count": 74,
   "metadata": {},
   "outputs": [
    {
     "data": {
      "text/plain": [
       "-0.017798128337983374"
      ]
     },
     "execution_count": 74,
     "metadata": {},
     "output_type": "execute_result"
    }
   ],
   "source": [
    "tick_pxrets['Tick Bar Returns'].autocorr(lag=1)"
   ]
  },
  {
   "cell_type": "code",
   "execution_count": 75,
   "metadata": {},
   "outputs": [
    {
     "data": {
      "text/plain": [
       "-0.017654486890934087"
      ]
     },
     "execution_count": 75,
     "metadata": {},
     "output_type": "execute_result"
    }
   ],
   "source": [
    "volume_pxrets['Volume Bar Returns'].autocorr(lag=1)"
   ]
  },
  {
   "cell_type": "code",
   "execution_count": 76,
   "metadata": {},
   "outputs": [
    {
     "data": {
      "text/plain": [
       "0.020131824141224417"
      ]
     },
     "execution_count": 76,
     "metadata": {},
     "output_type": "execute_result"
    }
   ],
   "source": [
    "dollar_pxrets['Dollar Bar Returns'].autocorr(lag=1)"
   ]
  },
  {
   "cell_type": "markdown",
   "metadata": {},
   "source": [
    "In this example, **Tick Bars and Volume Bars** seem to be the winner, albeit not by a large margin!"
   ]
  },
  {
   "cell_type": "markdown",
   "metadata": {},
   "source": [
    "# Variance of Variances\n",
    "\n",
    "We can easily use the results in the previous section to calculate the variance of variances. I will use a scale of 10,000 to visualize the answers easier:"
   ]
  },
  {
   "cell_type": "code",
   "execution_count": 77,
   "metadata": {},
   "outputs": [
    {
     "data": {
      "text/html": [
       "<div>\n",
       "<style scoped>\n",
       "    .dataframe tbody tr th:only-of-type {\n",
       "        vertical-align: middle;\n",
       "    }\n",
       "\n",
       "    .dataframe tbody tr th {\n",
       "        vertical-align: top;\n",
       "    }\n",
       "\n",
       "    .dataframe thead th {\n",
       "        text-align: right;\n",
       "    }\n",
       "</style>\n",
       "<table border=\"1\" class=\"dataframe\">\n",
       "  <thead>\n",
       "    <tr style=\"text-align: right;\">\n",
       "      <th></th>\n",
       "      <th>Tick Bar Returns</th>\n",
       "      <th>Volume Bar Returns</th>\n",
       "      <th>Dollar Bar Returns</th>\n",
       "    </tr>\n",
       "  </thead>\n",
       "  <tbody>\n",
       "    <tr>\n",
       "      <th>2003-07-31</th>\n",
       "      <td>0.555078</td>\n",
       "      <td>0.556139</td>\n",
       "      <td>1.036127</td>\n",
       "    </tr>\n",
       "    <tr>\n",
       "      <th>2003-08-31</th>\n",
       "      <td>0.546140</td>\n",
       "      <td>0.363658</td>\n",
       "      <td>1.111598</td>\n",
       "    </tr>\n",
       "    <tr>\n",
       "      <th>2003-09-30</th>\n",
       "      <td>0.476505</td>\n",
       "      <td>0.291215</td>\n",
       "      <td>1.059940</td>\n",
       "    </tr>\n",
       "    <tr>\n",
       "      <th>2003-10-31</th>\n",
       "      <td>0.407299</td>\n",
       "      <td>0.325756</td>\n",
       "      <td>0.908305</td>\n",
       "    </tr>\n",
       "    <tr>\n",
       "      <th>2003-11-30</th>\n",
       "      <td>0.270429</td>\n",
       "      <td>0.320532</td>\n",
       "      <td>0.940814</td>\n",
       "    </tr>\n",
       "    <tr>\n",
       "      <th>2003-12-31</th>\n",
       "      <td>0.169895</td>\n",
       "      <td>0.236152</td>\n",
       "      <td>0.697157</td>\n",
       "    </tr>\n",
       "    <tr>\n",
       "      <th>2004-01-31</th>\n",
       "      <td>0.194709</td>\n",
       "      <td>0.261549</td>\n",
       "      <td>0.812489</td>\n",
       "    </tr>\n",
       "    <tr>\n",
       "      <th>2004-02-29</th>\n",
       "      <td>0.185188</td>\n",
       "      <td>0.136360</td>\n",
       "      <td>0.790338</td>\n",
       "    </tr>\n",
       "    <tr>\n",
       "      <th>2004-03-31</th>\n",
       "      <td>0.314822</td>\n",
       "      <td>0.292042</td>\n",
       "      <td>0.849033</td>\n",
       "    </tr>\n",
       "    <tr>\n",
       "      <th>2004-04-30</th>\n",
       "      <td>0.278621</td>\n",
       "      <td>0.253734</td>\n",
       "      <td>0.804636</td>\n",
       "    </tr>\n",
       "  </tbody>\n",
       "</table>\n",
       "</div>"
      ],
      "text/plain": [
       "            Tick Bar Returns  Volume Bar Returns  Dollar Bar Returns\n",
       "2003-07-31          0.555078            0.556139            1.036127\n",
       "2003-08-31          0.546140            0.363658            1.111598\n",
       "2003-09-30          0.476505            0.291215            1.059940\n",
       "2003-10-31          0.407299            0.325756            0.908305\n",
       "2003-11-30          0.270429            0.320532            0.940814\n",
       "2003-12-31          0.169895            0.236152            0.697157\n",
       "2004-01-31          0.194709            0.261549            0.812489\n",
       "2004-02-29          0.185188            0.136360            0.790338\n",
       "2004-03-31          0.314822            0.292042            0.849033\n",
       "2004-04-30          0.278621            0.253734            0.804636"
      ]
     },
     "execution_count": 77,
     "metadata": {},
     "output_type": "execute_result"
    }
   ],
   "source": [
    "v_tick = pd.DataFrame(tick_pxrets.groupby(pd.Grouper(freq='M')).var()*10000)\n",
    "v_volume = pd.DataFrame(volume_pxrets.groupby(pd.Grouper(freq='M')).var()*10000)\n",
    "v_dollar = pd.DataFrame(dollar_pxrets.groupby(pd.Grouper(freq='M')).var()*10000)\n",
    "variances = v_tick.join(v_volume).join(v_dollar)\n",
    "variances[:10]"
   ]
  },
  {
   "cell_type": "code",
   "execution_count": 78,
   "metadata": {},
   "outputs": [
    {
     "data": {
      "text/plain": [
       "<matplotlib.legend.Legend at 0x7fac4716a110>"
      ]
     },
     "execution_count": 78,
     "metadata": {},
     "output_type": "execute_result"
    },
    {
     "data": {
      "image/png": "[encoded data removed]",
      "text/plain": [
       "<Figure size 720x288 with 1 Axes>"
      ]
     },
     "metadata": {
      "needs_background": "light"
     },
     "output_type": "display_data"
    }
   ],
   "source": [
    "plt.figure(figsize=(10,4))\n",
    "plt.plot(variances)\n",
    "plt.legend(variances.columns)"
   ]
  },
  {
   "cell_type": "code",
   "execution_count": 79,
   "metadata": {},
   "outputs": [
    {
     "data": {
      "text/plain": [
       "Tick Bar Returns      0.262950\n",
       "Volume Bar Returns    0.217157\n",
       "Dollar Bar Returns    0.631709\n",
       "dtype: float64"
      ]
     },
     "execution_count": 79,
     "metadata": {},
     "output_type": "execute_result"
    }
   ],
   "source": [
    "variances.mean(axis=0)"
   ]
  },
  {
   "cell_type": "code",
   "execution_count": 80,
   "metadata": {},
   "outputs": [
    {
     "data": {
      "text/plain": [
       "Tick Bar Returns      0.096381\n",
       "Volume Bar Returns    0.074700\n",
       "Dollar Bar Returns    0.087394\n",
       "dtype: float64"
      ]
     },
     "execution_count": 80,
     "metadata": {},
     "output_type": "execute_result"
    }
   ],
   "source": [
    "variances.var(axis=0)"
   ]
  },
  {
   "cell_type": "markdown",
   "metadata": {},
   "source": [
    "Unfortunately, Dollar bars do not have the lowest variance of variances. In this case, **volume bars** is the winner!"
   ]
  },
  {
   "cell_type": "markdown",
   "metadata": {},
   "source": [
    "# Jarque-Bera Test\n",
    "\n",
    "For the last section, we will apply the Jarque-Bera Normality test. This test is easily implemented using SciPy. "
   ]
  },
  {
   "cell_type": "code",
   "execution_count": 81,
   "metadata": {},
   "outputs": [
    {
     "data": {
      "text/plain": [
       "Jarque_beraResult(statistic=60861.954426052274, pvalue=0.0)"
      ]
     },
     "execution_count": 81,
     "metadata": {},
     "output_type": "execute_result"
    }
   ],
   "source": [
    "from scipy import stats\n",
    "\n",
    "stats.jarque_bera(tick_pxrets['Tick Bar Returns'])"
   ]
  },
  {
   "cell_type": "code",
   "execution_count": 82,
   "metadata": {},
   "outputs": [
    {
     "data": {
      "text/plain": [
       "Jarque_beraResult(statistic=45993.44612361124, pvalue=0.0)"
      ]
     },
     "execution_count": 82,
     "metadata": {},
     "output_type": "execute_result"
    }
   ],
   "source": [
    "stats.jarque_bera(volume_pxrets['Volume Bar Returns'])"
   ]
  },
  {
   "cell_type": "code",
   "execution_count": 83,
   "metadata": {},
   "outputs": [
    {
     "data": {
      "text/plain": [
       "Jarque_beraResult(statistic=658.726270586072, pvalue=0.0)"
      ]
     },
     "execution_count": 83,
     "metadata": {},
     "output_type": "execute_result"
    }
   ],
   "source": [
    "stats.jarque_bera(dollar_pxrets['Dollar Bar Returns'])"
   ]
  },
  {
   "cell_type": "markdown",
   "metadata": {},
   "source": [
    "Since all of the p-values are $<0.05$, we can reject the null hypothesis that returns are **not** normally distributed. We can easily see that **dollar bars win with the lowest test statistic!** It is the lowest by orders of magnitude! Given these results, I think that Dollar Bars behave the most like an IID normal locally, and then when a crash occurs, it misbehaves!"
   ]
  },
  {
   "cell_type": "markdown",
   "metadata": {},
   "source": [
    "Just because I'm curious:"
   ]
  },
  {
   "cell_type": "code",
   "execution_count": 84,
   "metadata": {},
   "outputs": [
    {
     "data": {
      "image/png": "[encoded data removed]",
      "text/plain": [
       "<Figure size 1080x720 with 3 Axes>"
      ]
     },
     "metadata": {
      "needs_background": "light"
     },
     "output_type": "display_data"
    }
   ],
   "source": [
    "import pylab\n",
    "\n",
    "plt.figure(figsize=(15,10))\n",
    "plt.subplot(2,2,1)\n",
    "stats.probplot(tick_pxrets['Tick Bar Returns'], dist=\"norm\", plot=pylab)\n",
    "plt.title('Tick Bars')\n",
    "plt.subplot(2,2,2)\n",
    "stats.probplot(volume_pxrets['Volume Bar Returns'], dist=\"norm\", plot=pylab)\n",
    "plt.title('Volume Bars')\n",
    "plt.subplot(2,2,3)\n",
    "stats.probplot(dollar_pxrets['Dollar Bar Returns'], dist=\"norm\", plot=pylab)\n",
    "plt.title('Dollar Bars')\n",
    "pylab.show()"
   ]
  },
  {
   "cell_type": "markdown",
   "metadata": {},
   "source": [
    "Errr..... This looks a little strange...."
   ]
  }
 ],
 "metadata": {
  "kernelspec": {
   "display_name": "Python 3",
   "language": "python",
   "name": "python3"
  },
  "language_info": {
   "codemirror_mode": {
    "name": "ipython",
    "version": 3
   },
   "file_extension": ".py",
   "mimetype": "text/x-python",
   "name": "python",
   "nbconvert_exporter": "python",
   "pygments_lexer": "ipython3",
   "version": "3.7.4"
  }
 },
 "nbformat": 4,
 "nbformat_minor": 2
}
