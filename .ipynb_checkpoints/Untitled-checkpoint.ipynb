{
 "cells": [
  {
   "cell_type": "markdown",
   "metadata": {},
   "source": [
    "# Chapter 1\n",
    "\n",
    "## Question 1.1\n",
    "\n",
    "There are many firms that are making a transition from discretionary investments to ML-led investments. A notable example is the growth of Point72's systematic investing business, Cubist Systematic Strategies. Given the extensive growth of Cubist in the past years, I can assume that Point72 has succeeded in that venture. \n",
    "\n",
    "The cultural differences between quantitative and fundamental investing are vast: quantitative strategies require collaboration in research whereas fundamental portfolio managers perform better when they are siloed.\n",
    "\n",
    "## Question 1.2\n",
    "\n",
    "(#ToDo) I'm not sure what the most important problem in mathematical finance is? \n",
    "\n",
    "## Question 1.3\n",
    "\n",
    "I believe that the reallocation of assets can be attributed to the idea that quantitative strategies can provide a level of diversification that perhaps cannot be achieved by fundamental shops. While quantitative strategy returns ebb and flow like fundamental returns, they can do so in a way that is orthogonal to their fundamental counterparts. Those with successful and secretive strategies also see extreme returns, and every investor would want a piece of those returns.\n",
    "\n",
    "## Question 1.4 \n",
    "\n",
    "I could not come across a Rich List that specifically ranked the profitability of firms, so for the sake of this problem I will be referencing the following article for my answers to this problem:\n",
    "https://www.institutionalinvestor.com/article/b1qmsgpxhz0lpt/The-20th-Annual-Rich-List-the-Definitive-Ranking-of-What-Hedge-Fund-Managers-Earned-in-2020\n",
    "\n",
    "1. **Izzy Englander (Millenium)** -- Fundamental, but adding quant strategies aggressively\n",
    "2. **Jim Simons (Renaissance)** -- Purely quantitative\n",
    "3. **Chase Coleman (Tiger)** -- Fundamental\n",
    "4. **Ken Griffin (Citadel)** -- Fundamental and Quantitative\n",
    "5. **(Tie) Steve Cohen** -- Fundamental, but Cubist is growing rapidly \n",
    "5. **(Tie) David Tepper (Appaloosa)** -- Fundamental\n",
    "7. **Philippe Laffont (Coatue)** -- Fundamental, their quant venture rose and fell swiftly \n",
    "8. **(Tie) O. Andreas Halvorsen (Viking)** -- Fundamental\n",
    "8. **(Tie) Scott Shleifer (Tiger)** -- Fundamental\n",
    "10. **Bill Ackman (Pershing Square)** -- Activist\n",
    "\n",
    "This was not the best year for purely quantitative strategies! \n",
    "\n",
    "According to this article by Man Group, in 2017, quantitative funds manage approximately 34% of the total hedge fund AUM (https://www.man.com/maninstitute/how-to-pick-a-quantitative-hedge-fund). I will need to find a more updated report to get a better idea of the results 4 years later. In 2020, quant managers were underrepresented in the rich list. "
   ]
  },
  {
   "cell_type": "code",
   "execution_count": null,
   "metadata": {},
   "outputs": [],
   "source": []
  }
 ],
 "metadata": {
  "kernelspec": {
   "display_name": "Python 3",
   "language": "python",
   "name": "python3"
  },
  "language_info": {
   "codemirror_mode": {
    "name": "ipython",
    "version": 3
   },
   "file_extension": ".py",
   "mimetype": "text/x-python",
   "name": "python",
   "nbconvert_exporter": "python",
   "pygments_lexer": "ipython3",
   "version": "3.7.4"
  }
 },
 "nbformat": 4,
 "nbformat_minor": 2
}
